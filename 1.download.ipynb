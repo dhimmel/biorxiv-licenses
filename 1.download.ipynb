{
 "cells": [
  {
   "cell_type": "markdown",
   "metadata": {},
   "source": [
    "# Download biorxiv preprint table from the PrePubMed repository"
   ]
  },
  {
   "cell_type": "code",
   "execution_count": 1,
   "metadata": {
    "collapsed": false
   },
   "outputs": [],
   "source": [
    "import os\n",
    "import json\n",
    "import logging\n",
    "\n",
    "import pandas\n",
    "import requests\n",
    "import altair\n",
    "\n",
    "import utilities"
   ]
  },
  {
   "cell_type": "code",
   "execution_count": 2,
   "metadata": {
    "collapsed": true
   },
   "outputs": [],
   "source": [
    "# Configure logging to write to file\n",
    "logging.basicConfig(level=logging.INFO, filename=os.path.join('logs/donwload.log'), filemode='w')"
   ]
  },
  {
   "cell_type": "markdown",
   "metadata": {},
   "source": [
    "## Get `OmnesRes/prepub` version"
   ]
  },
  {
   "cell_type": "code",
   "execution_count": 3,
   "metadata": {
    "collapsed": false
   },
   "outputs": [
    {
     "data": {
      "text/plain": [
       "{'sha': 'c7137fe288a7cbf3885fc7507060440d2e80e801',\n",
       " 'type': 'commit',\n",
       " 'url': 'https://api.github.com/repos/OmnesRes/prepub/git/commits/c7137fe288a7cbf3885fc7507060440d2e80e801'}"
      ]
     },
     "execution_count": 3,
     "metadata": {},
     "output_type": "execute_result"
    }
   ],
   "source": [
    "url = 'https://api.github.com/repos/OmnesRes/prepub/git/refs/heads/master'\n",
    "response = requests.get(url)\n",
    "response = response.json()\n",
    "response['object']"
   ]
  },
  {
   "cell_type": "markdown",
   "metadata": {},
   "source": [
    "## Load bioRxiv data"
   ]
  },
  {
   "cell_type": "code",
   "execution_count": 4,
   "metadata": {
    "collapsed": false
   },
   "outputs": [],
   "source": [
    "url = 'https://github.com/OmnesRes/prepub/raw/master/biorxiv/biorxiv_licenses.tsv'\n",
    "biorxiv_df = pandas.read_table(url, error_bad_lines=False)"
   ]
  },
  {
   "cell_type": "code",
   "execution_count": 5,
   "metadata": {
    "collapsed": false
   },
   "outputs": [
    {
     "data": {
      "text/html": [
       "<div>\n",
       "<table border=\"1\" class=\"dataframe\">\n",
       "  <thead>\n",
       "    <tr style=\"text-align: right;\">\n",
       "      <th></th>\n",
       "      <th>DOI</th>\n",
       "      <th>Date</th>\n",
       "      <th>Subjects</th>\n",
       "      <th>License</th>\n",
       "      <th>Title</th>\n",
       "      <th>Authors</th>\n",
       "      <th>Affiliations</th>\n",
       "    </tr>\n",
       "  </thead>\n",
       "  <tbody>\n",
       "    <tr>\n",
       "      <th>0</th>\n",
       "      <td>http://dx.doi.org/10.1101/049031</td>\n",
       "      <td>2016-04-16</td>\n",
       "      <td>Microbiology</td>\n",
       "      <td>CC BY-NC</td>\n",
       "      <td>Alternative Growth Behavior of Mycobacterium A...</td>\n",
       "      <td>Peilin Zhang|Lawrence M Minardi|J. Todd Kuenst...</td>\n",
       "      <td>PZM Diagnostics, LLC</td>\n",
       "    </tr>\n",
       "    <tr>\n",
       "      <th>1</th>\n",
       "      <td>http://dx.doi.org/10.1101/049049</td>\n",
       "      <td>2016-04-16</td>\n",
       "      <td>Genomics</td>\n",
       "      <td>CC BY-NC-ND</td>\n",
       "      <td>Lateral genetic transfers between eukaryotes a...</td>\n",
       "      <td>Sarah R Bordenstein|Seth R Bordenstein</td>\n",
       "      <td>Vanderbilt University</td>\n",
       "    </tr>\n",
       "  </tbody>\n",
       "</table>\n",
       "</div>"
      ],
      "text/plain": [
       "                                DOI        Date      Subjects      License  \\\n",
       "0  http://dx.doi.org/10.1101/049031  2016-04-16  Microbiology     CC BY-NC   \n",
       "1  http://dx.doi.org/10.1101/049049  2016-04-16      Genomics  CC BY-NC-ND   \n",
       "\n",
       "                                               Title  \\\n",
       "0  Alternative Growth Behavior of Mycobacterium A...   \n",
       "1  Lateral genetic transfers between eukaryotes a...   \n",
       "\n",
       "                                             Authors           Affiliations  \n",
       "0  Peilin Zhang|Lawrence M Minardi|J. Todd Kuenst...   PZM Diagnostics, LLC  \n",
       "1             Sarah R Bordenstein|Seth R Bordenstein  Vanderbilt University  "
      ]
     },
     "execution_count": 5,
     "metadata": {},
     "output_type": "execute_result"
    }
   ],
   "source": [
    "biorxiv_df.head(2)"
   ]
  },
  {
   "cell_type": "markdown",
   "metadata": {},
   "source": [
    "## Processing"
   ]
  },
  {
   "cell_type": "code",
   "execution_count": 6,
   "metadata": {
    "collapsed": false
   },
   "outputs": [],
   "source": [
    "# Remove URL from DOIs\n",
    "biorxiv_df.DOI = biorxiv_df.DOI.str.extract(r'(10\\.[0-9]+/[0-9]+)', expand=False)\n",
    "biorxiv_df.License = biorxiv_df.License.str.replace('CC-BY', 'CC BY')\n",
    "biorxiv_df.License = biorxiv_df.License.fillna('None')"
   ]
  },
  {
   "cell_type": "markdown",
   "metadata": {},
   "source": [
    "## Authors"
   ]
  },
  {
   "cell_type": "code",
   "execution_count": 7,
   "metadata": {
    "collapsed": false
   },
   "outputs": [],
   "source": [
    "author_df = (biorxiv_df\n",
    "    .pipe(utilities.tidy_split, column='Authors')\n",
    "    .rename(columns={'Authors': 'Author'})\n",
    "    [['DOI', 'Author']]\n",
    "    .sort_values(['DOI', 'Author'])\n",
    "    .drop_duplicates()\n",
    "    .reset_index(drop=True)\n",
    ")"
   ]
  },
  {
   "cell_type": "code",
   "execution_count": 8,
   "metadata": {
    "collapsed": false
   },
   "outputs": [],
   "source": [
    "# Standardize author names\n",
    "author_df['Standard_Author'] = author_df.Author.map(utilities.get_standard_author)"
   ]
  },
  {
   "cell_type": "code",
   "execution_count": 9,
   "metadata": {
    "collapsed": false
   },
   "outputs": [
    {
     "data": {
      "text/html": [
       "<div>\n",
       "<table border=\"1\" class=\"dataframe\">\n",
       "  <thead>\n",
       "    <tr style=\"text-align: right;\">\n",
       "      <th></th>\n",
       "      <th>DOI</th>\n",
       "      <th>Author</th>\n",
       "      <th>Standard_Author</th>\n",
       "    </tr>\n",
       "  </thead>\n",
       "  <tbody>\n",
       "    <tr>\n",
       "      <th>41452</th>\n",
       "      <td>10.1101/091280</td>\n",
       "      <td>Mathieu Videlier</td>\n",
       "      <td>Mathieu Videlier</td>\n",
       "    </tr>\n",
       "    <tr>\n",
       "      <th>41453</th>\n",
       "      <td>10.1101/091280</td>\n",
       "      <td>Nicolas Pollet</td>\n",
       "      <td>Nicolas Pollet</td>\n",
       "    </tr>\n",
       "  </tbody>\n",
       "</table>\n",
       "</div>"
      ],
      "text/plain": [
       "                  DOI            Author   Standard_Author\n",
       "41452  10.1101/091280  Mathieu Videlier  Mathieu Videlier\n",
       "41453  10.1101/091280    Nicolas Pollet    Nicolas Pollet"
      ]
     },
     "execution_count": 9,
     "metadata": {},
     "output_type": "execute_result"
    }
   ],
   "source": [
    "author_df.tail(2)"
   ]
  },
  {
   "cell_type": "code",
   "execution_count": 10,
   "metadata": {
    "collapsed": false
   },
   "outputs": [
    {
     "data": {
      "text/plain": [
       "Mark Daly      34\n",
       "Alkes Price    31\n",
       "Name: Standard_Author, dtype: int64"
      ]
     },
     "execution_count": 10,
     "metadata": {},
     "output_type": "execute_result"
    }
   ],
   "source": [
    "# Authors with the most preprints\n",
    "author_df.Standard_Author.value_counts().head(2)"
   ]
  },
  {
   "cell_type": "markdown",
   "metadata": {},
   "source": [
    "## Subjects"
   ]
  },
  {
   "cell_type": "code",
   "execution_count": 11,
   "metadata": {
    "collapsed": false
   },
   "outputs": [
    {
     "data": {
      "text/html": [
       "<div>\n",
       "<table border=\"1\" class=\"dataframe\">\n",
       "  <thead>\n",
       "    <tr style=\"text-align: right;\">\n",
       "      <th></th>\n",
       "      <th>DOI</th>\n",
       "      <th>Subject</th>\n",
       "    </tr>\n",
       "  </thead>\n",
       "  <tbody>\n",
       "    <tr>\n",
       "      <th>6980</th>\n",
       "      <td>10.1101/091272</td>\n",
       "      <td>Cell Biology</td>\n",
       "    </tr>\n",
       "    <tr>\n",
       "      <th>6981</th>\n",
       "      <td>10.1101/091280</td>\n",
       "      <td>Bioinformatics</td>\n",
       "    </tr>\n",
       "  </tbody>\n",
       "</table>\n",
       "</div>"
      ],
      "text/plain": [
       "                 DOI         Subject\n",
       "6980  10.1101/091272    Cell Biology\n",
       "6981  10.1101/091280  Bioinformatics"
      ]
     },
     "execution_count": 11,
     "metadata": {},
     "output_type": "execute_result"
    }
   ],
   "source": [
    "# Create a TSV with a row per preprint-subject pair\n",
    "subject_df = (biorxiv_df\n",
    "    .pipe(utilities.tidy_split, column='Subjects')\n",
    "    .rename(columns={'Subjects': 'Subject'})\n",
    "    [['DOI', 'Subject']]\n",
    "    .sort_values(['DOI', 'Subject'])\n",
    "    .reset_index(drop=True)\n",
    ")\n",
    "subject_df.tail(2)"
   ]
  },
  {
   "cell_type": "code",
   "execution_count": 12,
   "metadata": {
    "collapsed": false
   },
   "outputs": [
    {
     "data": {
      "text/plain": [
       "1    6925\n",
       "2      22\n",
       "5       2\n",
       "3       1\n",
       "Name: DOI, dtype: int64"
      ]
     },
     "execution_count": 12,
     "metadata": {},
     "output_type": "execute_result"
    }
   ],
   "source": [
    "# Number of subjects per preprint\n",
    "subject_df.DOI.value_counts().value_counts()"
   ]
  },
  {
   "cell_type": "code",
   "execution_count": 13,
   "metadata": {
    "collapsed": false
   },
   "outputs": [
    {
     "data": {
      "text/plain": [
       "Bioinformatics                            1122\n",
       "Evolutionary Biology                       998\n",
       "Genomics                                   838\n",
       "Neuroscience                               832\n",
       "Genetics                                   598\n",
       "Ecology                                    372\n",
       "Microbiology                               304\n",
       "Systems Biology                            281\n",
       "Biophysics                                 225\n",
       "Cell Biology                               180\n",
       "Cancer Biology                             152\n",
       "Plant Biology                              148\n",
       "Developmental Biology                      133\n",
       "Molecular Biology                          116\n",
       "Biochemistry                               110\n",
       "Animal Behavior and Cognition              101\n",
       "Synthetic Biology                           91\n",
       "Immunology                                  77\n",
       "Epidemiology                                72\n",
       "Bioengineering                              64\n",
       "Physiology                                  37\n",
       "Zoology                                     36\n",
       "Scientific Communication                    25\n",
       "Scientific Communication and Education      19\n",
       "Pathology                                   18\n",
       "Pharmacology                                18\n",
       "Paleontology                                 8\n",
       "Pharmacology and Toxicology                  6\n",
       "Clinical Trials                              1\n",
       "Name: Subject, dtype: int64"
      ]
     },
     "execution_count": 13,
     "metadata": {},
     "output_type": "execute_result"
    }
   ],
   "source": [
    "# Number of preprints by subject\n",
    "subject_df.Subject.value_counts()"
   ]
  },
  {
   "cell_type": "markdown",
   "metadata": {},
   "source": [
    "## Preprints"
   ]
  },
  {
   "cell_type": "code",
   "execution_count": 14,
   "metadata": {
    "collapsed": false
   },
   "outputs": [
    {
     "data": {
      "text/html": [
       "<div>\n",
       "<table border=\"1\" class=\"dataframe\">\n",
       "  <thead>\n",
       "    <tr style=\"text-align: right;\">\n",
       "      <th></th>\n",
       "      <th>DOI</th>\n",
       "      <th>Date</th>\n",
       "      <th>License</th>\n",
       "    </tr>\n",
       "  </thead>\n",
       "  <tbody>\n",
       "    <tr>\n",
       "      <th>6968</th>\n",
       "      <td>10.1101/091256</td>\n",
       "      <td>2016-12-02</td>\n",
       "      <td>None</td>\n",
       "    </tr>\n",
       "    <tr>\n",
       "      <th>6969</th>\n",
       "      <td>10.1101/091264</td>\n",
       "      <td>2016-12-02</td>\n",
       "      <td>None</td>\n",
       "    </tr>\n",
       "    <tr>\n",
       "      <th>6970</th>\n",
       "      <td>10.1101/091272</td>\n",
       "      <td>2016-12-02</td>\n",
       "      <td>None</td>\n",
       "    </tr>\n",
       "    <tr>\n",
       "      <th>6971</th>\n",
       "      <td>10.1101/091280</td>\n",
       "      <td>2016-12-02</td>\n",
       "      <td>None</td>\n",
       "    </tr>\n",
       "  </tbody>\n",
       "</table>\n",
       "</div>"
      ],
      "text/plain": [
       "                 DOI        Date License\n",
       "6968  10.1101/091256  2016-12-02    None\n",
       "6969  10.1101/091264  2016-12-02    None\n",
       "6970  10.1101/091272  2016-12-02    None\n",
       "6971  10.1101/091280  2016-12-02    None"
      ]
     },
     "execution_count": 14,
     "metadata": {},
     "output_type": "execute_result"
    }
   ],
   "source": [
    "preprint_df = (biorxiv_df\n",
    "    [['DOI', 'Date', 'License']]\n",
    "    .sort_values('DOI')\n",
    "    .reset_index(drop=True)\n",
    ")\n",
    "preprint_df.tail(4)"
   ]
  },
  {
   "cell_type": "code",
   "execution_count": 15,
   "metadata": {
    "collapsed": false
   },
   "outputs": [
    {
     "data": {
      "text/plain": [
       "6972"
      ]
     },
     "execution_count": 15,
     "metadata": {},
     "output_type": "execute_result"
    }
   ],
   "source": [
    "len(preprint_df)"
   ]
  },
  {
   "cell_type": "code",
   "execution_count": 16,
   "metadata": {
    "collapsed": false
   },
   "outputs": [
    {
     "data": {
      "text/html": [
       "<div>\n",
       "<table border=\"1\" class=\"dataframe\">\n",
       "  <thead>\n",
       "    <tr style=\"text-align: right;\">\n",
       "      <th></th>\n",
       "      <th>index</th>\n",
       "      <th>License</th>\n",
       "    </tr>\n",
       "  </thead>\n",
       "  <tbody>\n",
       "    <tr>\n",
       "      <th>0</th>\n",
       "      <td>CC BY-NC-ND</td>\n",
       "      <td>0.368474</td>\n",
       "    </tr>\n",
       "    <tr>\n",
       "      <th>1</th>\n",
       "      <td>None</td>\n",
       "      <td>0.297762</td>\n",
       "    </tr>\n",
       "    <tr>\n",
       "      <th>2</th>\n",
       "      <td>CC BY</td>\n",
       "      <td>0.177711</td>\n",
       "    </tr>\n",
       "    <tr>\n",
       "      <th>3</th>\n",
       "      <td>CC BY-NC</td>\n",
       "      <td>0.084624</td>\n",
       "    </tr>\n",
       "    <tr>\n",
       "      <th>4</th>\n",
       "      <td>CC BY-ND</td>\n",
       "      <td>0.071429</td>\n",
       "    </tr>\n",
       "  </tbody>\n",
       "</table>\n",
       "</div>"
      ],
      "text/plain": [
       "         index   License\n",
       "0  CC BY-NC-ND  0.368474\n",
       "1         None  0.297762\n",
       "2        CC BY  0.177711\n",
       "3     CC BY-NC  0.084624\n",
       "4     CC BY-ND  0.071429"
      ]
     },
     "execution_count": 16,
     "metadata": {},
     "output_type": "execute_result"
    }
   ],
   "source": [
    "# Preprints by license\n",
    "preprint_df.License.value_counts(normalize=True).reset_index()"
   ]
  },
  {
   "cell_type": "code",
   "execution_count": 17,
   "metadata": {
    "collapsed": false
   },
   "outputs": [
    {
     "data": {
      "text/plain": [
       "2016    4383\n",
       "2015    1706\n",
       "2014     806\n",
       "2013      77\n",
       "Name: Date, dtype: int64"
      ]
     },
     "execution_count": 17,
     "metadata": {},
     "output_type": "execute_result"
    }
   ],
   "source": [
    "# Preprints by year\n",
    "preprint_df.Date.map(lambda date: date.split('-')[0]).value_counts()"
   ]
  },
  {
   "cell_type": "markdown",
   "metadata": {},
   "source": [
    "## Save as a TSVs"
   ]
  },
  {
   "cell_type": "code",
   "execution_count": 18,
   "metadata": {
    "collapsed": true
   },
   "outputs": [],
   "source": [
    "path = os.path.join('data', 'preprints.tsv')\n",
    "preprint_df.to_csv(path, sep='\\t', index=False)\n",
    "\n",
    "path = os.path.join('data', 'subjects.tsv')\n",
    "subject_df.to_csv(path, sep='\\t', index=False)\n",
    "\n",
    "path = os.path.join('data', 'authors.tsv')\n",
    "author_df.to_csv(path, sep='\\t', index=False)"
   ]
  }
 ],
 "metadata": {
  "kernelspec": {
   "display_name": "Python 3",
   "language": "python",
   "name": "python3"
  },
  "language_info": {
   "codemirror_mode": {
    "name": "ipython",
    "version": 3
   },
   "file_extension": ".py",
   "mimetype": "text/x-python",
   "name": "python",
   "nbconvert_exporter": "python",
   "pygments_lexer": "ipython3",
   "version": "3.5.2"
  }
 },
 "nbformat": 4,
 "nbformat_minor": 1
}
