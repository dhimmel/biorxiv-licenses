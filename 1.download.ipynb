{
 "cells": [
  {
   "cell_type": "markdown",
   "metadata": {},
   "source": [
    "# Download biorxiv preprint table from the PrePubMed repository"
   ]
  },
  {
   "cell_type": "code",
   "execution_count": 1,
   "metadata": {
    "collapsed": true
   },
   "outputs": [],
   "source": [
    "import os\n",
    "import json\n",
    "\n",
    "import pandas\n",
    "import requests\n",
    "import altair"
   ]
  },
  {
   "cell_type": "markdown",
   "metadata": {},
   "source": [
    "## Get `OmnesRes/prepub` version"
   ]
  },
  {
   "cell_type": "code",
   "execution_count": 2,
   "metadata": {
    "collapsed": false
   },
   "outputs": [
    {
     "data": {
      "text/plain": [
       "{'sha': '9f49f9c52e618f1cabc115ab49e86d6dbd0ff40c',\n",
       " 'type': 'commit',\n",
       " 'url': 'https://api.github.com/repos/OmnesRes/prepub/git/commits/9f49f9c52e618f1cabc115ab49e86d6dbd0ff40c'}"
      ]
     },
     "execution_count": 2,
     "metadata": {},
     "output_type": "execute_result"
    }
   ],
   "source": [
    "url = 'https://api.github.com/repos/OmnesRes/prepub/git/refs/heads/master'\n",
    "response = requests.get(url)\n",
    "response = response.json()\n",
    "response['object']"
   ]
  },
  {
   "cell_type": "markdown",
   "metadata": {},
   "source": [
    "## Load bioRxiv data"
   ]
  },
  {
   "cell_type": "code",
   "execution_count": 3,
   "metadata": {
    "collapsed": false
   },
   "outputs": [],
   "source": [
    "url = 'https://github.com/OmnesRes/prepub/raw/master/biorxiv/biorxiv_licenses.tsv'\n",
    "biorxiv_df = pandas.read_table(url, error_bad_lines=False)"
   ]
  },
  {
   "cell_type": "code",
   "execution_count": 4,
   "metadata": {
    "collapsed": false
   },
   "outputs": [
    {
     "data": {
      "text/html": [
       "<div>\n",
       "<table border=\"1\" class=\"dataframe\">\n",
       "  <thead>\n",
       "    <tr style=\"text-align: right;\">\n",
       "      <th></th>\n",
       "      <th>DOI</th>\n",
       "      <th>Date</th>\n",
       "      <th>Subjects</th>\n",
       "      <th>License</th>\n",
       "      <th>Title</th>\n",
       "      <th>Authors</th>\n",
       "      <th>Affiliations</th>\n",
       "    </tr>\n",
       "  </thead>\n",
       "  <tbody>\n",
       "    <tr>\n",
       "      <th>0</th>\n",
       "      <td>http://dx.doi.org/10.1101/049031</td>\n",
       "      <td>2016-04-16</td>\n",
       "      <td>Microbiology</td>\n",
       "      <td>CC BY-NC</td>\n",
       "      <td>Alternative Growth Behavior of Mycobacterium A...</td>\n",
       "      <td>Peilin Zhang|Lawrence M Minardi|J. Todd Kuenst...</td>\n",
       "      <td>PZM Diagnostics, LLC</td>\n",
       "    </tr>\n",
       "    <tr>\n",
       "      <th>1</th>\n",
       "      <td>http://dx.doi.org/10.1101/049049</td>\n",
       "      <td>2016-04-16</td>\n",
       "      <td>Genomics</td>\n",
       "      <td>CC BY-NC-ND</td>\n",
       "      <td>Lateral genetic transfers between eukaryotes a...</td>\n",
       "      <td>Sarah R Bordenstein|Seth R Bordenstein</td>\n",
       "      <td>Vanderbilt University</td>\n",
       "    </tr>\n",
       "  </tbody>\n",
       "</table>\n",
       "</div>"
      ],
      "text/plain": [
       "                                DOI        Date      Subjects      License  \\\n",
       "0  http://dx.doi.org/10.1101/049031  2016-04-16  Microbiology     CC BY-NC   \n",
       "1  http://dx.doi.org/10.1101/049049  2016-04-16      Genomics  CC BY-NC-ND   \n",
       "\n",
       "                                               Title  \\\n",
       "0  Alternative Growth Behavior of Mycobacterium A...   \n",
       "1  Lateral genetic transfers between eukaryotes a...   \n",
       "\n",
       "                                             Authors           Affiliations  \n",
       "0  Peilin Zhang|Lawrence M Minardi|J. Todd Kuenst...   PZM Diagnostics, LLC  \n",
       "1             Sarah R Bordenstein|Seth R Bordenstein  Vanderbilt University  "
      ]
     },
     "execution_count": 4,
     "metadata": {},
     "output_type": "execute_result"
    }
   ],
   "source": [
    "biorxiv_df.head(2)"
   ]
  },
  {
   "cell_type": "markdown",
   "metadata": {},
   "source": [
    "## Process"
   ]
  },
  {
   "cell_type": "code",
   "execution_count": 5,
   "metadata": {
    "collapsed": false
   },
   "outputs": [],
   "source": [
    "# Remove URL from DOIs\n",
    "biorxiv_df.DOI = biorxiv_df.DOI.str.extract(r'(10\\.[0-9]+/[0-9]+)', expand=False)\n",
    "biorxiv_df.License = biorxiv_df.License.str.replace('CC-BY', 'CC BY')\n",
    "biorxiv_df.License = biorxiv_df.License.fillna('None')"
   ]
  },
  {
   "cell_type": "code",
   "execution_count": 6,
   "metadata": {
    "collapsed": false
   },
   "outputs": [
    {
     "data": {
      "text/html": [
       "<div>\n",
       "<table border=\"1\" class=\"dataframe\">\n",
       "  <thead>\n",
       "    <tr style=\"text-align: right;\">\n",
       "      <th></th>\n",
       "      <th>DOI</th>\n",
       "      <th>Date</th>\n",
       "      <th>Subjects</th>\n",
       "      <th>License</th>\n",
       "    </tr>\n",
       "  </thead>\n",
       "  <tbody>\n",
       "    <tr>\n",
       "      <th>6894</th>\n",
       "      <td>10.1101/090183</td>\n",
       "      <td>2016-11-28</td>\n",
       "      <td>Genomics</td>\n",
       "      <td>CC BY-NC-ND</td>\n",
       "    </tr>\n",
       "    <tr>\n",
       "      <th>6895</th>\n",
       "      <td>10.1101/090191</td>\n",
       "      <td>2016-11-28</td>\n",
       "      <td>Evolutionary Biology</td>\n",
       "      <td>CC BY-NC-ND</td>\n",
       "    </tr>\n",
       "    <tr>\n",
       "      <th>6896</th>\n",
       "      <td>10.1101/090209</td>\n",
       "      <td>2016-11-28</td>\n",
       "      <td>Neuroscience</td>\n",
       "      <td>CC BY-NC-ND</td>\n",
       "    </tr>\n",
       "    <tr>\n",
       "      <th>6897</th>\n",
       "      <td>10.1101/090225</td>\n",
       "      <td>2016-11-28</td>\n",
       "      <td>Ecology</td>\n",
       "      <td>CC BY-NC-ND</td>\n",
       "    </tr>\n",
       "  </tbody>\n",
       "</table>\n",
       "</div>"
      ],
      "text/plain": [
       "                 DOI        Date              Subjects      License\n",
       "6894  10.1101/090183  2016-11-28              Genomics  CC BY-NC-ND\n",
       "6895  10.1101/090191  2016-11-28  Evolutionary Biology  CC BY-NC-ND\n",
       "6896  10.1101/090209  2016-11-28          Neuroscience  CC BY-NC-ND\n",
       "6897  10.1101/090225  2016-11-28               Ecology  CC BY-NC-ND"
      ]
     },
     "execution_count": 6,
     "metadata": {},
     "output_type": "execute_result"
    }
   ],
   "source": [
    "biorxiv_df = (biorxiv_df\n",
    "    [['DOI', 'Date', 'Subjects', 'License']]\n",
    "    .sort_values('DOI')\n",
    "    .reset_index(drop=True)\n",
    ")\n",
    "biorxiv_df.tail(4)"
   ]
  },
  {
   "cell_type": "code",
   "execution_count": 7,
   "metadata": {
    "collapsed": false
   },
   "outputs": [
    {
     "data": {
      "text/plain": [
       "6898"
      ]
     },
     "execution_count": 7,
     "metadata": {},
     "output_type": "execute_result"
    }
   ],
   "source": [
    "len(biorxiv_df)"
   ]
  },
  {
   "cell_type": "code",
   "execution_count": 8,
   "metadata": {
    "collapsed": true
   },
   "outputs": [],
   "source": [
    "# Save as a TSV\n",
    "path = os.path.join('data', 'biorxiv-prepubmed.tsv')\n",
    "biorxiv_df.to_csv(path, sep='\\t', index=False)"
   ]
  }
 ],
 "metadata": {
  "kernelspec": {
   "display_name": "Python 3",
   "language": "python",
   "name": "python3"
  },
  "language_info": {
   "codemirror_mode": {
    "name": "ipython",
    "version": 3
   },
   "file_extension": ".py",
   "mimetype": "text/x-python",
   "name": "python",
   "nbconvert_exporter": "python",
   "pygments_lexer": "ipython3",
   "version": "3.5.2"
  }
 },
 "nbformat": 4,
 "nbformat_minor": 1
}
