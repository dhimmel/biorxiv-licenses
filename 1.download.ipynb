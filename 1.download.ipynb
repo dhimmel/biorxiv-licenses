{
 "cells": [
  {
   "cell_type": "markdown",
   "metadata": {},
   "source": [
    "# Download biorxiv preprint table from the PrePubMed repository"
   ]
  },
  {
   "cell_type": "code",
   "execution_count": 1,
   "metadata": {},
   "outputs": [],
   "source": [
    "import os\n",
    "import json\n",
    "import logging\n",
    "\n",
    "import pandas\n",
    "import requests\n",
    "\n",
    "import utilities"
   ]
  },
  {
   "cell_type": "code",
   "execution_count": 2,
   "metadata": {
    "collapsed": true
   },
   "outputs": [],
   "source": [
    "# Configure logging to write to file\n",
    "logging.basicConfig(level=logging.INFO, filename=os.path.join('logs/donwload.log'), filemode='w')"
   ]
  },
  {
   "cell_type": "markdown",
   "metadata": {},
   "source": [
    "## Get `OmnesRes/prepub` version"
   ]
  },
  {
   "cell_type": "code",
   "execution_count": 3,
   "metadata": {},
   "outputs": [
    {
     "data": {
      "text/plain": [
       "{'sha': 'e97cbaf6bf09b87f35f6e907ac625b3d57731a0d',\n",
       " 'type': 'commit',\n",
       " 'url': 'https://api.github.com/repos/OmnesRes/prepub/git/commits/e97cbaf6bf09b87f35f6e907ac625b3d57731a0d'}"
      ]
     },
     "execution_count": 3,
     "metadata": {},
     "output_type": "execute_result"
    }
   ],
   "source": [
    "url = 'https://api.github.com/repos/OmnesRes/prepub/git/refs/heads/master'\n",
    "response = requests.get(url)\n",
    "response = response.json()\n",
    "response['object']"
   ]
  },
  {
   "cell_type": "markdown",
   "metadata": {},
   "source": [
    "## Load bioRxiv data"
   ]
  },
  {
   "cell_type": "code",
   "execution_count": 4,
   "metadata": {},
   "outputs": [],
   "source": [
    "url = 'https://github.com/OmnesRes/prepub/raw/master/biorxiv/biorxiv_licenses.tsv'\n",
    "biorxiv_df = pandas.read_table(url)"
   ]
  },
  {
   "cell_type": "code",
   "execution_count": 5,
   "metadata": {},
   "outputs": [],
   "source": [
    "# Limit to preprints through November 2016\n",
    "biorxiv_df = biorxiv_df.query(\"Date <= '2017-05-03'\")"
   ]
  },
  {
   "cell_type": "code",
   "execution_count": 6,
   "metadata": {},
   "outputs": [
    {
     "data": {
      "text/html": [
       "<div>\n",
       "<table border=\"1\" class=\"dataframe\">\n",
       "  <thead>\n",
       "    <tr style=\"text-align: right;\">\n",
       "      <th></th>\n",
       "      <th>DOI</th>\n",
       "      <th>Date</th>\n",
       "      <th>Subjects</th>\n",
       "      <th>License</th>\n",
       "      <th>Title</th>\n",
       "      <th>Authors</th>\n",
       "      <th>Affiliations</th>\n",
       "    </tr>\n",
       "  </thead>\n",
       "  <tbody>\n",
       "    <tr>\n",
       "      <th>0</th>\n",
       "      <td>http://dx.doi.org/10.1101/049031</td>\n",
       "      <td>2016-04-16</td>\n",
       "      <td>Microbiology</td>\n",
       "      <td>CC BY-NC</td>\n",
       "      <td>Alternative Growth Behavior of Mycobacterium A...</td>\n",
       "      <td>Peilin Zhang|Lawrence M Minardi|J. Todd Kuenst...</td>\n",
       "      <td>PZM Diagnostics, LLC</td>\n",
       "    </tr>\n",
       "    <tr>\n",
       "      <th>1</th>\n",
       "      <td>http://dx.doi.org/10.1101/049049</td>\n",
       "      <td>2016-04-16</td>\n",
       "      <td>Genomics</td>\n",
       "      <td>CC BY-NC-ND</td>\n",
       "      <td>Lateral genetic transfers between eukaryotes a...</td>\n",
       "      <td>Sarah R Bordenstein|Seth R Bordenstein</td>\n",
       "      <td>Vanderbilt University</td>\n",
       "    </tr>\n",
       "  </tbody>\n",
       "</table>\n",
       "</div>"
      ],
      "text/plain": [
       "                                DOI        Date      Subjects      License  \\\n",
       "0  http://dx.doi.org/10.1101/049031  2016-04-16  Microbiology     CC BY-NC   \n",
       "1  http://dx.doi.org/10.1101/049049  2016-04-16      Genomics  CC BY-NC-ND   \n",
       "\n",
       "                                               Title  \\\n",
       "0  Alternative Growth Behavior of Mycobacterium A...   \n",
       "1  Lateral genetic transfers between eukaryotes a...   \n",
       "\n",
       "                                             Authors           Affiliations  \n",
       "0  Peilin Zhang|Lawrence M Minardi|J. Todd Kuenst...   PZM Diagnostics, LLC  \n",
       "1             Sarah R Bordenstein|Seth R Bordenstein  Vanderbilt University  "
      ]
     },
     "execution_count": 6,
     "metadata": {},
     "output_type": "execute_result"
    }
   ],
   "source": [
    "biorxiv_df.head(2)"
   ]
  },
  {
   "cell_type": "markdown",
   "metadata": {},
   "source": [
    "## Processing"
   ]
  },
  {
   "cell_type": "code",
   "execution_count": 7,
   "metadata": {},
   "outputs": [],
   "source": [
    "# Remove URL from DOIs\n",
    "biorxiv_df.DOI = biorxiv_df.DOI.str.extract(r'(10\\.[0-9]+/[0-9]+)', expand=False)\n",
    "biorxiv_df.License = biorxiv_df.License.str.replace('CC-BY', 'CC BY')\n",
    "biorxiv_df.License = biorxiv_df.License.fillna('None')"
   ]
  },
  {
   "cell_type": "markdown",
   "metadata": {},
   "source": [
    "## Authors"
   ]
  },
  {
   "cell_type": "code",
   "execution_count": 8,
   "metadata": {},
   "outputs": [],
   "source": [
    "author_df = (biorxiv_df\n",
    "    .pipe(utilities.tidy_split, column='Authors')\n",
    "    .rename(columns={'Authors': 'Author'})\n",
    "    [['DOI', 'Author']]\n",
    "    .sort_values(['DOI', 'Author'])\n",
    "    .drop_duplicates()\n",
    "    .reset_index(drop=True)\n",
    ")"
   ]
  },
  {
   "cell_type": "code",
   "execution_count": 9,
   "metadata": {},
   "outputs": [],
   "source": [
    "# Standardize author names\n",
    "author_df['Standard_Author'] = author_df.Author.map(utilities.get_standard_author)"
   ]
  },
  {
   "cell_type": "code",
   "execution_count": 10,
   "metadata": {},
   "outputs": [
    {
     "data": {
      "text/html": [
       "<div>\n",
       "<table border=\"1\" class=\"dataframe\">\n",
       "  <thead>\n",
       "    <tr style=\"text-align: right;\">\n",
       "      <th></th>\n",
       "      <th>DOI</th>\n",
       "      <th>Author</th>\n",
       "      <th>Standard_Author</th>\n",
       "    </tr>\n",
       "  </thead>\n",
       "  <tbody>\n",
       "    <tr>\n",
       "      <th>63042</th>\n",
       "      <td>10.1101/133512</td>\n",
       "      <td>Hernan Lopez-Fernandez</td>\n",
       "      <td>Hernan Lopez-Fernandez</td>\n",
       "    </tr>\n",
       "    <tr>\n",
       "      <th>63043</th>\n",
       "      <td>10.1101/133512</td>\n",
       "      <td>Katriina L. Ilves</td>\n",
       "      <td>Katriina Ilves</td>\n",
       "    </tr>\n",
       "  </tbody>\n",
       "</table>\n",
       "</div>"
      ],
      "text/plain": [
       "                  DOI                  Author         Standard_Author\n",
       "63042  10.1101/133512  Hernan Lopez-Fernandez  Hernan Lopez-Fernandez\n",
       "63043  10.1101/133512       Katriina L. Ilves          Katriina Ilves"
      ]
     },
     "execution_count": 10,
     "metadata": {},
     "output_type": "execute_result"
    }
   ],
   "source": [
    "author_df.tail(2)"
   ]
  },
  {
   "cell_type": "code",
   "execution_count": 11,
   "metadata": {},
   "outputs": [
    {
     "data": {
      "text/plain": [
       "Mark Daly      41\n",
       "Alkes Price    34\n",
       "Name: Standard_Author, dtype: int64"
      ]
     },
     "execution_count": 11,
     "metadata": {},
     "output_type": "execute_result"
    }
   ],
   "source": [
    "# Authors with the most preprints\n",
    "author_df.Standard_Author.value_counts().head(2)"
   ]
  },
  {
   "cell_type": "markdown",
   "metadata": {},
   "source": [
    "## Subjects"
   ]
  },
  {
   "cell_type": "code",
   "execution_count": 12,
   "metadata": {},
   "outputs": [
    {
     "data": {
      "text/html": [
       "<div>\n",
       "<table border=\"1\" class=\"dataframe\">\n",
       "  <thead>\n",
       "    <tr style=\"text-align: right;\">\n",
       "      <th></th>\n",
       "      <th>DOI</th>\n",
       "      <th>Subject</th>\n",
       "    </tr>\n",
       "  </thead>\n",
       "  <tbody>\n",
       "    <tr>\n",
       "      <th>9350</th>\n",
       "      <td>10.1101/133371</td>\n",
       "      <td>Neuroscience</td>\n",
       "    </tr>\n",
       "    <tr>\n",
       "      <th>9351</th>\n",
       "      <td>10.1101/133405</td>\n",
       "      <td>Zoology</td>\n",
       "    </tr>\n",
       "  </tbody>\n",
       "</table>\n",
       "</div>"
      ],
      "text/plain": [
       "                 DOI       Subject\n",
       "9350  10.1101/133371  Neuroscience\n",
       "9351  10.1101/133405       Zoology"
      ]
     },
     "execution_count": 12,
     "metadata": {},
     "output_type": "execute_result"
    }
   ],
   "source": [
    "# Create a TSV with a row per preprint-subject pair\n",
    "subject_df = (biorxiv_df\n",
    "    .pipe(utilities.tidy_split, column='Subjects')\n",
    "    .rename(columns={'Subjects': 'Subject'})\n",
    "    [['DOI', 'Subject']]\n",
    "    .sort_values(['DOI', 'Subject'])\n",
    "    .reset_index(drop=True)\n",
    ")\n",
    "subject_df.tail(2)"
   ]
  },
  {
   "cell_type": "code",
   "execution_count": 13,
   "metadata": {},
   "outputs": [
    {
     "data": {
      "text/plain": [
       "1    9295\n",
       "2      22\n",
       "5       2\n",
       "3       1\n",
       "Name: DOI, dtype: int64"
      ]
     },
     "execution_count": 13,
     "metadata": {},
     "output_type": "execute_result"
    }
   ],
   "source": [
    "# Number of subjects per preprint\n",
    "subject_df.DOI.value_counts().value_counts()"
   ]
  },
  {
   "cell_type": "code",
   "execution_count": 14,
   "metadata": {},
   "outputs": [
    {
     "data": {
      "text/plain": [
       "Bioinformatics                            1415\n",
       "Neuroscience                              1230\n",
       "Evolutionary Biology                      1195\n",
       "Genomics                                  1048\n",
       "Genetics                                   759\n",
       "Microbiology                               472\n",
       "Ecology                                    460\n",
       "Systems Biology                            362\n",
       "Biophysics                                 316\n",
       "Cell Biology                               283\n",
       "Cancer Biology                             213\n",
       "Developmental Biology                      211\n",
       "Plant Biology                              208\n",
       "Molecular Biology                          176\n",
       "Biochemistry                               171\n",
       "Epidemiology                               147\n",
       "Animal Behavior and Cognition              135\n",
       "Synthetic Biology                          116\n",
       "Immunology                                 104\n",
       "Bioengineering                              89\n",
       "Physiology                                  53\n",
       "Zoology                                     48\n",
       "Scientific Communication and Education      36\n",
       "Scientific Communication                    25\n",
       "Pharmacology and Toxicology                 24\n",
       "Pathology                                   24\n",
       "Pharmacology                                18\n",
       "Paleontology                                 9\n",
       "Clinical Trials                              5\n",
       "Name: Subject, dtype: int64"
      ]
     },
     "execution_count": 14,
     "metadata": {},
     "output_type": "execute_result"
    }
   ],
   "source": [
    "# Number of preprints by subject\n",
    "subject_df.Subject.value_counts()"
   ]
  },
  {
   "cell_type": "markdown",
   "metadata": {},
   "source": [
    "## Preprints"
   ]
  },
  {
   "cell_type": "code",
   "execution_count": 15,
   "metadata": {},
   "outputs": [
    {
     "data": {
      "text/html": [
       "<div>\n",
       "<table border=\"1\" class=\"dataframe\">\n",
       "  <thead>\n",
       "    <tr style=\"text-align: right;\">\n",
       "      <th></th>\n",
       "      <th>DOI</th>\n",
       "      <th>Date</th>\n",
       "      <th>License</th>\n",
       "    </tr>\n",
       "  </thead>\n",
       "  <tbody>\n",
       "    <tr>\n",
       "      <th>10318</th>\n",
       "      <td>10.1101/133413</td>\n",
       "      <td>2017-05-02</td>\n",
       "      <td>None</td>\n",
       "    </tr>\n",
       "    <tr>\n",
       "      <th>10319</th>\n",
       "      <td>10.1101/133462</td>\n",
       "      <td>2017-05-02</td>\n",
       "      <td>CC BY</td>\n",
       "    </tr>\n",
       "    <tr>\n",
       "      <th>10320</th>\n",
       "      <td>10.1101/133488</td>\n",
       "      <td>2017-05-02</td>\n",
       "      <td>CC BY-NC</td>\n",
       "    </tr>\n",
       "    <tr>\n",
       "      <th>10321</th>\n",
       "      <td>10.1101/133512</td>\n",
       "      <td>2017-05-02</td>\n",
       "      <td>CC BY-NC-ND</td>\n",
       "    </tr>\n",
       "  </tbody>\n",
       "</table>\n",
       "</div>"
      ],
      "text/plain": [
       "                  DOI        Date      License\n",
       "10318  10.1101/133413  2017-05-02         None\n",
       "10319  10.1101/133462  2017-05-02        CC BY\n",
       "10320  10.1101/133488  2017-05-02     CC BY-NC\n",
       "10321  10.1101/133512  2017-05-02  CC BY-NC-ND"
      ]
     },
     "execution_count": 15,
     "metadata": {},
     "output_type": "execute_result"
    }
   ],
   "source": [
    "preprint_df = (biorxiv_df\n",
    "    [['DOI', 'Date', 'License']]\n",
    "    .sort_values('DOI')\n",
    "    .reset_index(drop=True)\n",
    ")\n",
    "preprint_df.tail(4)"
   ]
  },
  {
   "cell_type": "code",
   "execution_count": 16,
   "metadata": {},
   "outputs": [
    {
     "data": {
      "text/plain": [
       "10322"
      ]
     },
     "execution_count": 16,
     "metadata": {},
     "output_type": "execute_result"
    }
   ],
   "source": [
    "len(preprint_df)"
   ]
  },
  {
   "cell_type": "code",
   "execution_count": 17,
   "metadata": {},
   "outputs": [
    {
     "data": {
      "text/html": [
       "<div>\n",
       "<table border=\"1\" class=\"dataframe\">\n",
       "  <thead>\n",
       "    <tr style=\"text-align: right;\">\n",
       "      <th></th>\n",
       "      <th>index</th>\n",
       "      <th>License</th>\n",
       "    </tr>\n",
       "  </thead>\n",
       "  <tbody>\n",
       "    <tr>\n",
       "      <th>0</th>\n",
       "      <td>CC BY-NC-ND</td>\n",
       "      <td>0.352839</td>\n",
       "    </tr>\n",
       "    <tr>\n",
       "      <th>1</th>\n",
       "      <td>None</td>\n",
       "      <td>0.294517</td>\n",
       "    </tr>\n",
       "    <tr>\n",
       "      <th>2</th>\n",
       "      <td>CC BY</td>\n",
       "      <td>0.193083</td>\n",
       "    </tr>\n",
       "    <tr>\n",
       "      <th>3</th>\n",
       "      <td>CC BY-NC</td>\n",
       "      <td>0.091746</td>\n",
       "    </tr>\n",
       "    <tr>\n",
       "      <th>4</th>\n",
       "      <td>CC BY-ND</td>\n",
       "      <td>0.067816</td>\n",
       "    </tr>\n",
       "  </tbody>\n",
       "</table>\n",
       "</div>"
      ],
      "text/plain": [
       "         index   License\n",
       "0  CC BY-NC-ND  0.352839\n",
       "1         None  0.294517\n",
       "2        CC BY  0.193083\n",
       "3     CC BY-NC  0.091746\n",
       "4     CC BY-ND  0.067816"
      ]
     },
     "execution_count": 17,
     "metadata": {},
     "output_type": "execute_result"
    }
   ],
   "source": [
    "# Preprints by license\n",
    "preprint_df.License.value_counts(normalize=True).reset_index()"
   ]
  },
  {
   "cell_type": "code",
   "execution_count": 18,
   "metadata": {},
   "outputs": [
    {
     "data": {
      "text/plain": [
       "2016    4901\n",
       "2017    2832\n",
       "2015    1706\n",
       "2014     806\n",
       "2013      77\n",
       "Name: Date, dtype: int64"
      ]
     },
     "execution_count": 18,
     "metadata": {},
     "output_type": "execute_result"
    }
   ],
   "source": [
    "# Preprints by year\n",
    "preprint_df.Date.map(lambda date: date.split('-')[0]).value_counts()"
   ]
  },
  {
   "cell_type": "markdown",
   "metadata": {},
   "source": [
    "## Save as a TSVs"
   ]
  },
  {
   "cell_type": "code",
   "execution_count": 19,
   "metadata": {
    "collapsed": true
   },
   "outputs": [],
   "source": [
    "path = os.path.join('data', 'preprints.tsv')\n",
    "preprint_df.to_csv(path, sep='\\t', index=False)\n",
    "\n",
    "path = os.path.join('data', 'subjects.tsv')\n",
    "subject_df.to_csv(path, sep='\\t', index=False)\n",
    "\n",
    "path = os.path.join('data', 'authors.tsv')\n",
    "author_df.to_csv(path, sep='\\t', index=False)"
   ]
  }
 ],
 "metadata": {
  "kernelspec": {
   "display_name": "Python [conda env:biorxiv-licenses]",
   "language": "python",
   "name": "conda-env-biorxiv-licenses-py"
  },
  "language_info": {
   "codemirror_mode": {
    "name": "ipython",
    "version": 3
   },
   "file_extension": ".py",
   "mimetype": "text/x-python",
   "name": "python",
   "nbconvert_exporter": "python",
   "pygments_lexer": "ipython3",
   "version": "3.6.0"
  }
 },
 "nbformat": 4,
 "nbformat_minor": 1
}
