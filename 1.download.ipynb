{
 "cells": [
  {
   "cell_type": "markdown",
   "metadata": {},
   "source": [
    "# Download biorxiv preprint table from the PrePubMed repository"
   ]
  },
  {
   "cell_type": "code",
   "execution_count": 1,
   "metadata": {
    "collapsed": false
   },
   "outputs": [],
   "source": [
    "import os\n",
    "import json\n",
    "import logging\n",
    "\n",
    "import pandas\n",
    "import requests\n",
    "import altair\n",
    "\n",
    "import utilities"
   ]
  },
  {
   "cell_type": "markdown",
   "metadata": {},
   "source": [
    "## Get `OmnesRes/prepub` version"
   ]
  },
  {
   "cell_type": "code",
   "execution_count": 2,
   "metadata": {
    "collapsed": false
   },
   "outputs": [
    {
     "data": {
      "text/plain": [
       "{'sha': '9f49f9c52e618f1cabc115ab49e86d6dbd0ff40c',\n",
       " 'type': 'commit',\n",
       " 'url': 'https://api.github.com/repos/OmnesRes/prepub/git/commits/9f49f9c52e618f1cabc115ab49e86d6dbd0ff40c'}"
      ]
     },
     "execution_count": 2,
     "metadata": {},
     "output_type": "execute_result"
    }
   ],
   "source": [
    "url = 'https://api.github.com/repos/OmnesRes/prepub/git/refs/heads/master'\n",
    "response = requests.get(url)\n",
    "response = response.json()\n",
    "response['object']"
   ]
  },
  {
   "cell_type": "markdown",
   "metadata": {},
   "source": [
    "## Load bioRxiv data"
   ]
  },
  {
   "cell_type": "code",
   "execution_count": 3,
   "metadata": {
    "collapsed": false
   },
   "outputs": [],
   "source": [
    "url = 'https://github.com/OmnesRes/prepub/raw/master/biorxiv/biorxiv_licenses.tsv'\n",
    "biorxiv_df = pandas.read_table(url, error_bad_lines=False)"
   ]
  },
  {
   "cell_type": "code",
   "execution_count": 4,
   "metadata": {
    "collapsed": false
   },
   "outputs": [
    {
     "data": {
      "text/html": [
       "<div>\n",
       "<table border=\"1\" class=\"dataframe\">\n",
       "  <thead>\n",
       "    <tr style=\"text-align: right;\">\n",
       "      <th></th>\n",
       "      <th>DOI</th>\n",
       "      <th>Date</th>\n",
       "      <th>Subjects</th>\n",
       "      <th>License</th>\n",
       "      <th>Title</th>\n",
       "      <th>Authors</th>\n",
       "      <th>Affiliations</th>\n",
       "    </tr>\n",
       "  </thead>\n",
       "  <tbody>\n",
       "    <tr>\n",
       "      <th>0</th>\n",
       "      <td>http://dx.doi.org/10.1101/049031</td>\n",
       "      <td>2016-04-16</td>\n",
       "      <td>Microbiology</td>\n",
       "      <td>CC BY-NC</td>\n",
       "      <td>Alternative Growth Behavior of Mycobacterium A...</td>\n",
       "      <td>Peilin Zhang|Lawrence M Minardi|J. Todd Kuenst...</td>\n",
       "      <td>PZM Diagnostics, LLC</td>\n",
       "    </tr>\n",
       "    <tr>\n",
       "      <th>1</th>\n",
       "      <td>http://dx.doi.org/10.1101/049049</td>\n",
       "      <td>2016-04-16</td>\n",
       "      <td>Genomics</td>\n",
       "      <td>CC BY-NC-ND</td>\n",
       "      <td>Lateral genetic transfers between eukaryotes a...</td>\n",
       "      <td>Sarah R Bordenstein|Seth R Bordenstein</td>\n",
       "      <td>Vanderbilt University</td>\n",
       "    </tr>\n",
       "  </tbody>\n",
       "</table>\n",
       "</div>"
      ],
      "text/plain": [
       "                                DOI        Date      Subjects      License  \\\n",
       "0  http://dx.doi.org/10.1101/049031  2016-04-16  Microbiology     CC BY-NC   \n",
       "1  http://dx.doi.org/10.1101/049049  2016-04-16      Genomics  CC BY-NC-ND   \n",
       "\n",
       "                                               Title  \\\n",
       "0  Alternative Growth Behavior of Mycobacterium A...   \n",
       "1  Lateral genetic transfers between eukaryotes a...   \n",
       "\n",
       "                                             Authors           Affiliations  \n",
       "0  Peilin Zhang|Lawrence M Minardi|J. Todd Kuenst...   PZM Diagnostics, LLC  \n",
       "1             Sarah R Bordenstein|Seth R Bordenstein  Vanderbilt University  "
      ]
     },
     "execution_count": 4,
     "metadata": {},
     "output_type": "execute_result"
    }
   ],
   "source": [
    "biorxiv_df.head(2)"
   ]
  },
  {
   "cell_type": "markdown",
   "metadata": {},
   "source": [
    "## Processing"
   ]
  },
  {
   "cell_type": "code",
   "execution_count": 5,
   "metadata": {
    "collapsed": false
   },
   "outputs": [],
   "source": [
    "# Remove URL from DOIs\n",
    "biorxiv_df.DOI = biorxiv_df.DOI.str.extract(r'(10\\.[0-9]+/[0-9]+)', expand=False)\n",
    "biorxiv_df.License = biorxiv_df.License.str.replace('CC-BY', 'CC BY')\n",
    "biorxiv_df.License = biorxiv_df.License.fillna('None')"
   ]
  },
  {
   "cell_type": "markdown",
   "metadata": {},
   "source": [
    "## Authors"
   ]
  },
  {
   "cell_type": "code",
   "execution_count": 6,
   "metadata": {
    "collapsed": false
   },
   "outputs": [],
   "source": [
    "author_df = (biorxiv_df\n",
    "    .pipe(utilities.tidy_split, column='Authors')\n",
    "    .rename(columns={'Authors': 'Author'})\n",
    "    [['DOI', 'Author']]\n",
    "    .sort_values(['DOI', 'Author'])\n",
    "    .drop_duplicates()\n",
    "    .reset_index(drop=True)\n",
    ")"
   ]
  },
  {
   "cell_type": "code",
   "execution_count": 7,
   "metadata": {
    "collapsed": false
   },
   "outputs": [
    {
     "name": "stderr",
     "output_type": "stream",
     "text": [
      "WARNING:root:\"n/a n/a\" removed as NA\n",
      "WARNING:root:\"International Sheep Genomics Consortium n.a.\" removed as a consortium\n",
      "WARNING:root:\"Schizophrenia Working Group Psychiatric Genomics Consortium\" removed as a consortium\n",
      "WARNING:root:\"n/a SWE-SCZ Consortium\" removed as a consortium\n",
      "WARNING:root:\"n/a Schizophrenia Working Group of the PGC\" removed as NA\n",
      "WARNING:root:\"GTEx Consortium\" removed as a consortium\n",
      "WARNING:root:\"International Cassava Genetic Map Consortium\" removed as a consortium\n",
      "WARNING:root:\"RACI Consortium\" removed as a consortium\n",
      "WARNING:root:\"ReproGen Consortium\" removed as a consortium\n",
      "WARNING:root:\"Schizophrenia Working Group of the Psychiatric Genetics Consortium\" removed as a consortium\n",
      "WARNING:root:\"Anorexia Nervosa Genetic Consortium Wellcome Trust Consortium 3\" removed as a consortium\n",
      "WARNING:root:\"Psychiatric Genomics Consortium\" removed as a consortium\n",
      "WARNING:root:\"Schizophrenia Working Group of the Psychiatric Genomics Consortium\" removed as a consortium\n",
      "WARNING:root:\"Exome Aggregation Consortium ExAC\" removed as a consortium\n"
     ]
    }
   ],
   "source": [
    "# Standardize author names\n",
    "author_df['Standard_Author'] = author_df.Author.map(utilities.get_standard_author)"
   ]
  },
  {
   "cell_type": "code",
   "execution_count": 8,
   "metadata": {
    "collapsed": false
   },
   "outputs": [
    {
     "data": {
      "text/html": [
       "<div>\n",
       "<table border=\"1\" class=\"dataframe\">\n",
       "  <thead>\n",
       "    <tr style=\"text-align: right;\">\n",
       "      <th></th>\n",
       "      <th>DOI</th>\n",
       "      <th>Author</th>\n",
       "      <th>Standard_Author</th>\n",
       "    </tr>\n",
       "  </thead>\n",
       "  <tbody>\n",
       "    <tr>\n",
       "      <th>41025</th>\n",
       "      <td>10.1101/090209</td>\n",
       "      <td>Kathleen A Martin</td>\n",
       "      <td>Kathleen Martin</td>\n",
       "    </tr>\n",
       "    <tr>\n",
       "      <th>41026</th>\n",
       "      <td>10.1101/090225</td>\n",
       "      <td>David W Armitage</td>\n",
       "      <td>David Armitage</td>\n",
       "    </tr>\n",
       "  </tbody>\n",
       "</table>\n",
       "</div>"
      ],
      "text/plain": [
       "                  DOI             Author  Standard_Author\n",
       "41025  10.1101/090209  Kathleen A Martin  Kathleen Martin\n",
       "41026  10.1101/090225   David W Armitage   David Armitage"
      ]
     },
     "execution_count": 8,
     "metadata": {},
     "output_type": "execute_result"
    }
   ],
   "source": [
    "author_df.tail(2)"
   ]
  },
  {
   "cell_type": "code",
   "execution_count": 9,
   "metadata": {
    "collapsed": false
   },
   "outputs": [
    {
     "data": {
      "text/plain": [
       "Mark Daly      34\n",
       "Alkes Price    31\n",
       "Name: Standard_Author, dtype: int64"
      ]
     },
     "execution_count": 9,
     "metadata": {},
     "output_type": "execute_result"
    }
   ],
   "source": [
    "# Authors with the most preprints\n",
    "author_df.Standard_Author.value_counts().head(2)"
   ]
  },
  {
   "cell_type": "markdown",
   "metadata": {},
   "source": [
    "## Subjects"
   ]
  },
  {
   "cell_type": "code",
   "execution_count": 10,
   "metadata": {
    "collapsed": false
   },
   "outputs": [
    {
     "data": {
      "text/html": [
       "<div>\n",
       "<table border=\"1\" class=\"dataframe\">\n",
       "  <thead>\n",
       "    <tr style=\"text-align: right;\">\n",
       "      <th></th>\n",
       "      <th>DOI</th>\n",
       "      <th>Subject</th>\n",
       "    </tr>\n",
       "  </thead>\n",
       "  <tbody>\n",
       "    <tr>\n",
       "      <th>6907</th>\n",
       "      <td>10.1101/090209</td>\n",
       "      <td>Neuroscience</td>\n",
       "    </tr>\n",
       "    <tr>\n",
       "      <th>6908</th>\n",
       "      <td>10.1101/090225</td>\n",
       "      <td>Ecology</td>\n",
       "    </tr>\n",
       "  </tbody>\n",
       "</table>\n",
       "</div>"
      ],
      "text/plain": [
       "                 DOI       Subject\n",
       "6907  10.1101/090209  Neuroscience\n",
       "6908  10.1101/090225       Ecology"
      ]
     },
     "execution_count": 10,
     "metadata": {},
     "output_type": "execute_result"
    }
   ],
   "source": [
    "# Create a TSV with a row per preprint-subject pair\n",
    "subject_df = (biorxiv_df\n",
    "    .pipe(utilities.tidy_split, column='Subjects')\n",
    "    .rename(columns={'Subjects': 'Subject'})\n",
    "    [['DOI', 'Subject']]\n",
    "    .sort_values(['DOI', 'Subject'])\n",
    "    .reset_index(drop=True)\n",
    ")\n",
    "subject_df.tail(2)"
   ]
  },
  {
   "cell_type": "code",
   "execution_count": 11,
   "metadata": {
    "collapsed": false
   },
   "outputs": [
    {
     "data": {
      "text/plain": [
       "1    6852\n",
       "2      22\n",
       "5       2\n",
       "3       1\n",
       "Name: DOI, dtype: int64"
      ]
     },
     "execution_count": 11,
     "metadata": {},
     "output_type": "execute_result"
    }
   ],
   "source": [
    "# Number of subjects per preprint\n",
    "subject_df.DOI.value_counts().value_counts()"
   ]
  },
  {
   "cell_type": "code",
   "execution_count": 12,
   "metadata": {
    "collapsed": false
   },
   "outputs": [
    {
     "data": {
      "text/plain": [
       "Bioinformatics                            1112\n",
       "Evolutionary Biology                       983\n",
       "Genomics                                   829\n",
       "Neuroscience                               824\n",
       "Genetics                                   594\n",
       "Ecology                                    369\n",
       "Microbiology                               300\n",
       "Systems Biology                            279\n",
       "Biophysics                                 224\n",
       "Cell Biology                               177\n",
       "Cancer Biology                             151\n",
       "Plant Biology                              146\n",
       "Developmental Biology                      129\n",
       "Molecular Biology                          116\n",
       "Biochemistry                               108\n",
       "Animal Behavior and Cognition              100\n",
       "Synthetic Biology                           91\n",
       "Immunology                                  76\n",
       "Epidemiology                                71\n",
       "Bioengineering                              63\n",
       "Physiology                                  37\n",
       "Zoology                                     36\n",
       "Scientific Communication                    25\n",
       "Scientific Communication and Education      18\n",
       "Pharmacology                                18\n",
       "Pathology                                   18\n",
       "Paleontology                                 8\n",
       "Pharmacology and Toxicology                  6\n",
       "Clinical Trials                              1\n",
       "Name: Subject, dtype: int64"
      ]
     },
     "execution_count": 12,
     "metadata": {},
     "output_type": "execute_result"
    }
   ],
   "source": [
    "# Number of preprints by subject\n",
    "subject_df.Subject.value_counts()"
   ]
  },
  {
   "cell_type": "markdown",
   "metadata": {},
   "source": [
    "## Preprints"
   ]
  },
  {
   "cell_type": "code",
   "execution_count": 13,
   "metadata": {
    "collapsed": false
   },
   "outputs": [
    {
     "data": {
      "text/html": [
       "<div>\n",
       "<table border=\"1\" class=\"dataframe\">\n",
       "  <thead>\n",
       "    <tr style=\"text-align: right;\">\n",
       "      <th></th>\n",
       "      <th>DOI</th>\n",
       "      <th>Date</th>\n",
       "      <th>License</th>\n",
       "    </tr>\n",
       "  </thead>\n",
       "  <tbody>\n",
       "    <tr>\n",
       "      <th>6894</th>\n",
       "      <td>10.1101/090183</td>\n",
       "      <td>2016-11-28</td>\n",
       "      <td>CC BY-NC-ND</td>\n",
       "    </tr>\n",
       "    <tr>\n",
       "      <th>6895</th>\n",
       "      <td>10.1101/090191</td>\n",
       "      <td>2016-11-28</td>\n",
       "      <td>CC BY-NC-ND</td>\n",
       "    </tr>\n",
       "    <tr>\n",
       "      <th>6896</th>\n",
       "      <td>10.1101/090209</td>\n",
       "      <td>2016-11-28</td>\n",
       "      <td>CC BY-NC-ND</td>\n",
       "    </tr>\n",
       "    <tr>\n",
       "      <th>6897</th>\n",
       "      <td>10.1101/090225</td>\n",
       "      <td>2016-11-28</td>\n",
       "      <td>CC BY-NC-ND</td>\n",
       "    </tr>\n",
       "  </tbody>\n",
       "</table>\n",
       "</div>"
      ],
      "text/plain": [
       "                 DOI        Date      License\n",
       "6894  10.1101/090183  2016-11-28  CC BY-NC-ND\n",
       "6895  10.1101/090191  2016-11-28  CC BY-NC-ND\n",
       "6896  10.1101/090209  2016-11-28  CC BY-NC-ND\n",
       "6897  10.1101/090225  2016-11-28  CC BY-NC-ND"
      ]
     },
     "execution_count": 13,
     "metadata": {},
     "output_type": "execute_result"
    }
   ],
   "source": [
    "preprint_df = (biorxiv_df\n",
    "    [['DOI', 'Date', 'License']]\n",
    "    .sort_values('DOI')\n",
    "    .reset_index(drop=True)\n",
    ")\n",
    "preprint_df.tail(4)"
   ]
  },
  {
   "cell_type": "code",
   "execution_count": 14,
   "metadata": {
    "collapsed": false
   },
   "outputs": [
    {
     "data": {
      "text/plain": [
       "6898"
      ]
     },
     "execution_count": 14,
     "metadata": {},
     "output_type": "execute_result"
    }
   ],
   "source": [
    "len(preprint_df)"
   ]
  },
  {
   "cell_type": "code",
   "execution_count": 15,
   "metadata": {
    "collapsed": false
   },
   "outputs": [
    {
     "data": {
      "text/plain": [
       "CC BY-NC-ND    0.368078\n",
       "None           0.297767\n",
       "CC BY          0.178168\n",
       "CC BY-NC       0.084517\n",
       "CC BY-ND       0.071470\n",
       "Name: License, dtype: float64"
      ]
     },
     "execution_count": 15,
     "metadata": {},
     "output_type": "execute_result"
    }
   ],
   "source": [
    "preprint_df.License.value_counts(normalize=True)"
   ]
  },
  {
   "cell_type": "code",
   "execution_count": 16,
   "metadata": {
    "collapsed": false
   },
   "outputs": [
    {
     "data": {
      "text/plain": [
       "2016    4309\n",
       "2015    1706\n",
       "2014     806\n",
       "2013      77\n",
       "Name: Date, dtype: int64"
      ]
     },
     "execution_count": 16,
     "metadata": {},
     "output_type": "execute_result"
    }
   ],
   "source": [
    "preprint_df.Date.map(lambda date: date.split('-')[0]).value_counts()"
   ]
  },
  {
   "cell_type": "markdown",
   "metadata": {},
   "source": [
    "## Save as a TSVs"
   ]
  },
  {
   "cell_type": "code",
   "execution_count": 17,
   "metadata": {
    "collapsed": true
   },
   "outputs": [],
   "source": [
    "path = os.path.join('data', 'preprints.tsv')\n",
    "preprint_df.to_csv(path, sep='\\t', index=False)\n",
    "\n",
    "path = os.path.join('data', 'subjects.tsv')\n",
    "subject_df.to_csv(path, sep='\\t', index=False)\n",
    "\n",
    "path = os.path.join('data', 'authors.tsv')\n",
    "author_df.to_csv(path, sep='\\t', index=False)"
   ]
  }
 ],
 "metadata": {
  "kernelspec": {
   "display_name": "Python 3",
   "language": "python",
   "name": "python3"
  },
  "language_info": {
   "codemirror_mode": {
    "name": "ipython",
    "version": 3
   },
   "file_extension": ".py",
   "mimetype": "text/x-python",
   "name": "python",
   "nbconvert_exporter": "python",
   "pygments_lexer": "ipython3",
   "version": "3.5.2"
  }
 },
 "nbformat": 4,
 "nbformat_minor": 1
}
