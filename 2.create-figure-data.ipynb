{
 "cells": [
  {
   "cell_type": "markdown",
   "metadata": {},
   "source": [
    "# Analyse license choices for bioRxiv preprints"
   ]
  },
  {
   "cell_type": "code",
   "execution_count": 1,
   "metadata": {
    "collapsed": true
   },
   "outputs": [],
   "source": [
    "import json\n",
    "import os\n",
    "\n",
    "import pandas\n",
    "import altair\n",
    "\n",
    "import utilities"
   ]
  },
  {
   "cell_type": "markdown",
   "metadata": {},
   "source": [
    "## Read data"
   ]
  },
  {
   "cell_type": "code",
   "execution_count": 2,
   "metadata": {},
   "outputs": [],
   "source": [
    "# Ordered according to https://creativecommons.org/licenses/\n",
    "licenses = ['CC BY', 'CC BY-ND', 'CC BY-NC', 'CC BY-NC-ND', 'None']\n",
    "license_colors = ['#F68212', '#AC5B0C', '#934E0A', '#492705', '#000000']\n",
    "\n",
    "license_scores = {\n",
    "    'CC BY': 5,\n",
    "    'CC BY-ND': 3,\n",
    "    'CC BY-NC': 3,\n",
    "    'CC BY-NC-ND': 2,\n",
    "    'None': 1,\n",
    "}"
   ]
  },
  {
   "cell_type": "code",
   "execution_count": 3,
   "metadata": {},
   "outputs": [
    {
     "data": {
      "text/html": [
       "<div>\n",
       "<table border=\"1\" class=\"dataframe\">\n",
       "  <thead>\n",
       "    <tr style=\"text-align: right;\">\n",
       "      <th></th>\n",
       "      <th>DOI</th>\n",
       "      <th>Date</th>\n",
       "      <th>License</th>\n",
       "    </tr>\n",
       "  </thead>\n",
       "  <tbody>\n",
       "    <tr>\n",
       "      <th>0</th>\n",
       "      <td>10.1101/000026</td>\n",
       "      <td>2014-09-08</td>\n",
       "      <td>CC BY</td>\n",
       "    </tr>\n",
       "    <tr>\n",
       "      <th>1</th>\n",
       "      <td>10.1101/000042</td>\n",
       "      <td>2013-12-01</td>\n",
       "      <td>CC BY</td>\n",
       "    </tr>\n",
       "  </tbody>\n",
       "</table>\n",
       "</div>"
      ],
      "text/plain": [
       "              DOI       Date License\n",
       "0  10.1101/000026 2014-09-08   CC BY\n",
       "1  10.1101/000042 2013-12-01   CC BY"
      ]
     },
     "execution_count": 3,
     "metadata": {},
     "output_type": "execute_result"
    }
   ],
   "source": [
    "path = os.path.join('data', 'preprints.tsv')\n",
    "preprint_df = pandas.read_table(path, parse_dates=['Date'])\n",
    "preprint_df.License = pandas.Categorical(preprint_df.License, licenses)\n",
    "preprint_df.head(2)"
   ]
  },
  {
   "cell_type": "code",
   "execution_count": 4,
   "metadata": {},
   "outputs": [
    {
     "data": {
      "text/html": [
       "<div>\n",
       "<table border=\"1\" class=\"dataframe\">\n",
       "  <thead>\n",
       "    <tr style=\"text-align: right;\">\n",
       "      <th></th>\n",
       "      <th>License</th>\n",
       "      <th>Count</th>\n",
       "      <th>Percent</th>\n",
       "      <th>Score</th>\n",
       "    </tr>\n",
       "  </thead>\n",
       "  <tbody>\n",
       "    <tr>\n",
       "      <th>0</th>\n",
       "      <td>CC BY</td>\n",
       "      <td>1,993</td>\n",
       "      <td>19.3%</td>\n",
       "      <td>5</td>\n",
       "    </tr>\n",
       "    <tr>\n",
       "      <th>1</th>\n",
       "      <td>CC BY-ND</td>\n",
       "      <td>700</td>\n",
       "      <td>6.8%</td>\n",
       "      <td>3</td>\n",
       "    </tr>\n",
       "    <tr>\n",
       "      <th>2</th>\n",
       "      <td>CC BY-NC</td>\n",
       "      <td>947</td>\n",
       "      <td>9.2%</td>\n",
       "      <td>3</td>\n",
       "    </tr>\n",
       "    <tr>\n",
       "      <th>3</th>\n",
       "      <td>CC BY-NC-ND</td>\n",
       "      <td>3,642</td>\n",
       "      <td>35.3%</td>\n",
       "      <td>2</td>\n",
       "    </tr>\n",
       "    <tr>\n",
       "      <th>4</th>\n",
       "      <td>None</td>\n",
       "      <td>3,040</td>\n",
       "      <td>29.5%</td>\n",
       "      <td>1</td>\n",
       "    </tr>\n",
       "  </tbody>\n",
       "</table>\n",
       "</div>"
      ],
      "text/plain": [
       "       License  Count Percent  Score\n",
       "0        CC BY  1,993   19.3%      5\n",
       "1     CC BY-ND    700    6.8%      3\n",
       "2     CC BY-NC    947    9.2%      3\n",
       "3  CC BY-NC-ND  3,642   35.3%      2\n",
       "4         None  3,040   29.5%      1"
      ]
     },
     "execution_count": 4,
     "metadata": {},
     "output_type": "execute_result"
    }
   ],
   "source": [
    "# Table of licensing choices\n",
    "counts = preprint_df.groupby('License').apply(len)\n",
    "counts.name = 'Count'\n",
    "count_df = counts.reset_index()\n",
    "count_df['Percent'] = count_df['Count'] / sum(count_df['Count'])\n",
    "count_df.License = pandas.Categorical(count_df.License, licenses)\n",
    "count_df.assign(\n",
    "    Count=count_df['Count'].map('{:,}'.format),\n",
    "    Percent=count_df['Percent'].map('{:.1%}'.format),\n",
    "    Score=count_df['License'].map(license_scores),\n",
    ")"
   ]
  },
  {
   "cell_type": "code",
   "execution_count": 5,
   "metadata": {},
   "outputs": [
    {
     "data": {
      "text/plain": [
       "Count      7382.000000\n",
       "Percent       0.715171\n",
       "dtype: float64"
      ]
     },
     "execution_count": 5,
     "metadata": {},
     "output_type": "execute_result"
    }
   ],
   "source": [
    "# Preprints that forbid derivatives\n",
    "ND_licenses = {'CC BY-ND', 'CC BY-NC-ND', 'None'}\n",
    "count_df.query(\"License in @ND_licenses\").sum(numeric_only=True)"
   ]
  },
  {
   "cell_type": "code",
   "execution_count": 6,
   "metadata": {},
   "outputs": [
    {
     "data": {
      "text/plain": [
       "Count      7629.000000\n",
       "Percent       0.739101\n",
       "dtype: float64"
      ]
     },
     "execution_count": 6,
     "metadata": {},
     "output_type": "execute_result"
    }
   ],
   "source": [
    "# Preprints that forbid commercial use\n",
    "ND_licenses = {'CC BY-NC', 'CC BY-NC-ND', 'None'}\n",
    "count_df.query(\"License in @ND_licenses\").sum(numeric_only=True)"
   ]
  },
  {
   "cell_type": "markdown",
   "metadata": {},
   "source": [
    "## License distribution over time"
   ]
  },
  {
   "cell_type": "code",
   "execution_count": 7,
   "metadata": {},
   "outputs": [],
   "source": [
    "path = os.path.join('figure', 'license-vs-time', 'vega-lite-data.json')\n",
    "utilities.df_to_vega_lite(preprint_df, path)"
   ]
  },
  {
   "cell_type": "markdown",
   "metadata": {},
   "source": [
    "## License distribution by subject"
   ]
  },
  {
   "cell_type": "code",
   "execution_count": 8,
   "metadata": {},
   "outputs": [
    {
     "data": {
      "text/html": [
       "<div>\n",
       "<table border=\"1\" class=\"dataframe\">\n",
       "  <thead>\n",
       "    <tr style=\"text-align: right;\">\n",
       "      <th></th>\n",
       "      <th>DOI</th>\n",
       "      <th>Date</th>\n",
       "      <th>License</th>\n",
       "      <th>Subject</th>\n",
       "    </tr>\n",
       "  </thead>\n",
       "  <tbody>\n",
       "    <tr>\n",
       "      <th>9350</th>\n",
       "      <td>10.1101/133371</td>\n",
       "      <td>2017-05-02</td>\n",
       "      <td>CC BY-NC</td>\n",
       "      <td>Neuroscience</td>\n",
       "    </tr>\n",
       "    <tr>\n",
       "      <th>9351</th>\n",
       "      <td>10.1101/133405</td>\n",
       "      <td>2017-05-02</td>\n",
       "      <td>CC BY-NC-ND</td>\n",
       "      <td>Zoology</td>\n",
       "    </tr>\n",
       "  </tbody>\n",
       "</table>\n",
       "</div>"
      ],
      "text/plain": [
       "                 DOI       Date      License       Subject\n",
       "9350  10.1101/133371 2017-05-02     CC BY-NC  Neuroscience\n",
       "9351  10.1101/133405 2017-05-02  CC BY-NC-ND       Zoology"
      ]
     },
     "execution_count": 8,
     "metadata": {},
     "output_type": "execute_result"
    }
   ],
   "source": [
    "path = os.path.join('data', 'subjects.tsv')\n",
    "subject_df = preprint_df.merge(\n",
    "    pandas.read_table(path)\n",
    "    .replace({'Subject': {'Animal Behavior and Cognition': 'Animal Behavior & Cogn.'}})\n",
    ")\n",
    "subject_df.tail(2)"
   ]
  },
  {
   "cell_type": "code",
   "execution_count": 9,
   "metadata": {},
   "outputs": [
    {
     "data": {
      "text/plain": [
       "19"
      ]
     },
     "execution_count": 9,
     "metadata": {},
     "output_type": "execute_result"
    }
   ],
   "source": [
    "# Subset subject_df for subjects with 100+ preprints\n",
    "subject_counts = subject_df.Subject.value_counts()\n",
    "popular_subjects = subject_counts[subject_counts >= 100].index.tolist()\n",
    "popular_subject_df = subject_df.query(\"Subject in @popular_subjects\")\n",
    "len(popular_subjects)"
   ]
  },
  {
   "cell_type": "code",
   "execution_count": 10,
   "metadata": {},
   "outputs": [],
   "source": [
    "# Export for vega-lite\n",
    "path = os.path.join('figure', 'license-vs-subject', 'vega-lite-data.json')\n",
    "utilities.df_to_vega_lite(popular_subject_df, path)"
   ]
  },
  {
   "cell_type": "markdown",
   "metadata": {},
   "source": [
    "## Licensing by author"
   ]
  },
  {
   "cell_type": "code",
   "execution_count": 11,
   "metadata": {},
   "outputs": [],
   "source": [
    "path = os.path.join('data', 'authors.tsv')\n",
    "author_df = preprint_df.merge(\n",
    "    pandas.read_table(path)\n",
    ")"
   ]
  },
  {
   "cell_type": "code",
   "execution_count": 12,
   "metadata": {
    "collapsed": true
   },
   "outputs": [],
   "source": [
    "author_df['score'] = author_df.License.map(license_scores)"
   ]
  },
  {
   "cell_type": "code",
   "execution_count": 13,
   "metadata": {},
   "outputs": [
    {
     "data": {
      "text/html": [
       "<div>\n",
       "<table border=\"1\" class=\"dataframe\">\n",
       "  <thead>\n",
       "    <tr style=\"text-align: right;\">\n",
       "      <th></th>\n",
       "      <th>DOI</th>\n",
       "      <th>Date</th>\n",
       "      <th>License</th>\n",
       "      <th>Author</th>\n",
       "      <th>Standard_Author</th>\n",
       "      <th>score</th>\n",
       "    </tr>\n",
       "  </thead>\n",
       "  <tbody>\n",
       "    <tr>\n",
       "      <th>63042</th>\n",
       "      <td>10.1101/133512</td>\n",
       "      <td>2017-05-02</td>\n",
       "      <td>CC BY-NC-ND</td>\n",
       "      <td>Hernan Lopez-Fernandez</td>\n",
       "      <td>Hernan Lopez-Fernandez</td>\n",
       "      <td>2</td>\n",
       "    </tr>\n",
       "    <tr>\n",
       "      <th>63043</th>\n",
       "      <td>10.1101/133512</td>\n",
       "      <td>2017-05-02</td>\n",
       "      <td>CC BY-NC-ND</td>\n",
       "      <td>Katriina L. Ilves</td>\n",
       "      <td>Katriina Ilves</td>\n",
       "      <td>2</td>\n",
       "    </tr>\n",
       "  </tbody>\n",
       "</table>\n",
       "</div>"
      ],
      "text/plain": [
       "                  DOI       Date      License                  Author  \\\n",
       "63042  10.1101/133512 2017-05-02  CC BY-NC-ND  Hernan Lopez-Fernandez   \n",
       "63043  10.1101/133512 2017-05-02  CC BY-NC-ND       Katriina L. Ilves   \n",
       "\n",
       "              Standard_Author  score  \n",
       "63042  Hernan Lopez-Fernandez      2  \n",
       "63043          Katriina Ilves      2  "
      ]
     },
     "execution_count": 13,
     "metadata": {},
     "output_type": "execute_result"
    }
   ],
   "source": [
    "author_df.tail(2)"
   ]
  },
  {
   "cell_type": "code",
   "execution_count": 14,
   "metadata": {},
   "outputs": [],
   "source": [
    "def summarize(df):\n",
    "    row = pandas.Series()\n",
    "    row['Preprints'] = len(df)\n",
    "    row['Score'] = sum(df.score)\n",
    "    return row\n",
    "\n",
    "author_score_df = author_df.groupby('Standard_Author').apply(summarize).reset_index()\n",
    "author_score_df['Rank'] = author_score_df.Score.rank(method='min', ascending=False).astype(int)"
   ]
  },
  {
   "cell_type": "code",
   "execution_count": 15,
   "metadata": {},
   "outputs": [
    {
     "data": {
      "text/html": [
       "<div>\n",
       "<table border=\"1\" class=\"dataframe\">\n",
       "  <thead>\n",
       "    <tr style=\"text-align: right;\">\n",
       "      <th></th>\n",
       "      <th>Standard_Author</th>\n",
       "      <th>Preprints</th>\n",
       "      <th>Score</th>\n",
       "      <th>Rank</th>\n",
       "    </tr>\n",
       "  </thead>\n",
       "  <tbody>\n",
       "    <tr>\n",
       "      <th>25889</th>\n",
       "      <td>Mark Daly</td>\n",
       "      <td>41</td>\n",
       "      <td>98</td>\n",
       "      <td>1</td>\n",
       "    </tr>\n",
       "    <tr>\n",
       "      <th>27736</th>\n",
       "      <td>Michael Inouye</td>\n",
       "      <td>18</td>\n",
       "      <td>84</td>\n",
       "      <td>2</td>\n",
       "    </tr>\n",
       "    <tr>\n",
       "      <th>13811</th>\n",
       "      <td>George Smith</td>\n",
       "      <td>26</td>\n",
       "      <td>79</td>\n",
       "      <td>3</td>\n",
       "    </tr>\n",
       "    <tr>\n",
       "      <th>4718</th>\n",
       "      <td>Benjamin Neale</td>\n",
       "      <td>32</td>\n",
       "      <td>77</td>\n",
       "      <td>4</td>\n",
       "    </tr>\n",
       "    <tr>\n",
       "      <th>14298</th>\n",
       "      <td>Graham Coop</td>\n",
       "      <td>17</td>\n",
       "      <td>77</td>\n",
       "      <td>4</td>\n",
       "    </tr>\n",
       "  </tbody>\n",
       "</table>\n",
       "</div>"
      ],
      "text/plain": [
       "      Standard_Author  Preprints  Score  Rank\n",
       "25889       Mark Daly         41     98     1\n",
       "27736  Michael Inouye         18     84     2\n",
       "13811    George Smith         26     79     3\n",
       "4718   Benjamin Neale         32     77     4\n",
       "14298     Graham Coop         17     77     4"
      ]
     },
     "execution_count": 15,
     "metadata": {},
     "output_type": "execute_result"
    }
   ],
   "source": [
    "author_score_df.sort_values('Score', ascending=False).head()"
   ]
  },
  {
   "cell_type": "code",
   "execution_count": 16,
   "metadata": {
    "collapsed": true
   },
   "outputs": [],
   "source": [
    "path = os.path.join('data', 'author-scores.tsv')\n",
    "author_score_df.to_csv(path, sep='\\t', index=False)"
   ]
  },
  {
   "cell_type": "code",
   "execution_count": 17,
   "metadata": {},
   "outputs": [],
   "source": [
    "path = os.path.join('data', 'author-scores.json')\n",
    "utilities.df_to_datatables(author_score_df, path)"
   ]
  }
 ],
 "metadata": {
  "kernelspec": {
   "display_name": "Python [conda env:biorxiv-licenses]",
   "language": "python",
   "name": "conda-env-biorxiv-licenses-py"
  },
  "language_info": {
   "codemirror_mode": {
    "name": "ipython",
    "version": 3
   },
   "file_extension": ".py",
   "mimetype": "text/x-python",
   "name": "python",
   "nbconvert_exporter": "python",
   "pygments_lexer": "ipython3",
   "version": "3.6.0"
  }
 },
 "nbformat": 4,
 "nbformat_minor": 1
}
