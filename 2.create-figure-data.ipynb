{
 "cells": [
  {
   "cell_type": "markdown",
   "metadata": {},
   "source": [
    "# Analyse license choices for bioRxiv preprints"
   ]
  },
  {
   "cell_type": "code",
   "execution_count": 1,
   "metadata": {
    "collapsed": true
   },
   "outputs": [],
   "source": [
    "import json\n",
    "import os\n",
    "\n",
    "import pandas\n",
    "import altair\n",
    "\n",
    "import utilities"
   ]
  },
  {
   "cell_type": "markdown",
   "metadata": {},
   "source": [
    "## Read data"
   ]
  },
  {
   "cell_type": "code",
   "execution_count": 2,
   "metadata": {
    "collapsed": false
   },
   "outputs": [],
   "source": [
    "# Ordered according to https://creativecommons.org/licenses/\n",
    "licenses = ['CC BY', 'CC BY-ND', 'CC BY-NC', 'CC BY-NC-ND', 'None']\n",
    "license_colors = ['#F68212', '#AC5B0C', '#934E0A', '#492705', '#000000']"
   ]
  },
  {
   "cell_type": "code",
   "execution_count": 3,
   "metadata": {
    "collapsed": false
   },
   "outputs": [
    {
     "data": {
      "text/html": [
       "<div>\n",
       "<table border=\"1\" class=\"dataframe\">\n",
       "  <thead>\n",
       "    <tr style=\"text-align: right;\">\n",
       "      <th></th>\n",
       "      <th>DOI</th>\n",
       "      <th>Date</th>\n",
       "      <th>Subjects</th>\n",
       "      <th>License</th>\n",
       "    </tr>\n",
       "  </thead>\n",
       "  <tbody>\n",
       "    <tr>\n",
       "      <th>0</th>\n",
       "      <td>10.1101/000026</td>\n",
       "      <td>2014-09-08</td>\n",
       "      <td>Genetics</td>\n",
       "      <td>CC BY</td>\n",
       "    </tr>\n",
       "    <tr>\n",
       "      <th>1</th>\n",
       "      <td>10.1101/000042</td>\n",
       "      <td>2013-12-01</td>\n",
       "      <td>Genomics</td>\n",
       "      <td>CC BY</td>\n",
       "    </tr>\n",
       "  </tbody>\n",
       "</table>\n",
       "</div>"
      ],
      "text/plain": [
       "              DOI       Date  Subjects License\n",
       "0  10.1101/000026 2014-09-08  Genetics   CC BY\n",
       "1  10.1101/000042 2013-12-01  Genomics   CC BY"
      ]
     },
     "execution_count": 3,
     "metadata": {},
     "output_type": "execute_result"
    }
   ],
   "source": [
    "biorxiv_df = pandas.read_table('data/biorxiv-prepubmed.tsv', parse_dates=['Date'])\n",
    "biorxiv_df.License = pandas.Categorical(biorxiv_df.License, licenses)\n",
    "biorxiv_df.head(2)"
   ]
  },
  {
   "cell_type": "markdown",
   "metadata": {},
   "source": [
    "## Frequency by license type"
   ]
  },
  {
   "cell_type": "code",
   "execution_count": 4,
   "metadata": {
    "collapsed": false
   },
   "outputs": [
    {
     "data": {
      "text/plain": [
       "CC BY-NC-ND    0.368078\n",
       "None           0.297767\n",
       "CC BY          0.178168\n",
       "CC BY-NC       0.084517\n",
       "CC BY-ND       0.071470\n",
       "Name: License, dtype: float64"
      ]
     },
     "execution_count": 4,
     "metadata": {},
     "output_type": "execute_result"
    }
   ],
   "source": [
    "biorxiv_df.License.value_counts(normalize=True)"
   ]
  },
  {
   "cell_type": "markdown",
   "metadata": {},
   "source": [
    "## License distribution over time"
   ]
  },
  {
   "cell_type": "code",
   "execution_count": 5,
   "metadata": {
    "collapsed": false
   },
   "outputs": [],
   "source": [
    "path = os.path.join('figure', 'license-vs-time', 'vega-lite-data.json')\n",
    "utilities.df_to_vega_lite(biorxiv_df, path)"
   ]
  },
  {
   "cell_type": "markdown",
   "metadata": {},
   "source": [
    "## License distribution by subject"
   ]
  },
  {
   "cell_type": "code",
   "execution_count": 6,
   "metadata": {
    "collapsed": false
   },
   "outputs": [
    {
     "data": {
      "text/html": [
       "<div>\n",
       "<table border=\"1\" class=\"dataframe\">\n",
       "  <thead>\n",
       "    <tr style=\"text-align: right;\">\n",
       "      <th></th>\n",
       "      <th>DOI</th>\n",
       "      <th>Date</th>\n",
       "      <th>Subject</th>\n",
       "      <th>License</th>\n",
       "    </tr>\n",
       "  </thead>\n",
       "  <tbody>\n",
       "    <tr>\n",
       "      <th>6896</th>\n",
       "      <td>10.1101/090209</td>\n",
       "      <td>2016-11-28</td>\n",
       "      <td>Neuroscience</td>\n",
       "      <td>CC BY-NC-ND</td>\n",
       "    </tr>\n",
       "    <tr>\n",
       "      <th>6897</th>\n",
       "      <td>10.1101/090225</td>\n",
       "      <td>2016-11-28</td>\n",
       "      <td>Ecology</td>\n",
       "      <td>CC BY-NC-ND</td>\n",
       "    </tr>\n",
       "  </tbody>\n",
       "</table>\n",
       "</div>"
      ],
      "text/plain": [
       "                 DOI       Date       Subject      License\n",
       "6896  10.1101/090209 2016-11-28  Neuroscience  CC BY-NC-ND\n",
       "6897  10.1101/090225 2016-11-28       Ecology  CC BY-NC-ND"
      ]
     },
     "execution_count": 6,
     "metadata": {},
     "output_type": "execute_result"
    }
   ],
   "source": [
    "# Create a TSV with a row per preprint-subject pair\n",
    "subject_df = (biorxiv_df\n",
    "    .pipe(utilities.tidy_split, column='Subjects')\n",
    "    .rename(columns={'Subjects': 'Subject'})\n",
    "    .sort_values(['DOI', 'Subject'])\n",
    "    .fillna('None')\n",
    ")\n",
    "subject_df.tail(2)"
   ]
  },
  {
   "cell_type": "code",
   "execution_count": 7,
   "metadata": {
    "collapsed": false
   },
   "outputs": [
    {
     "data": {
      "text/plain": [
       "1    6852\n",
       "2      22\n",
       "5       2\n",
       "3       1\n",
       "Name: DOI, dtype: int64"
      ]
     },
     "execution_count": 7,
     "metadata": {},
     "output_type": "execute_result"
    }
   ],
   "source": [
    "# Number of subjects per preprint\n",
    "subject_df.DOI.value_counts().value_counts()"
   ]
  },
  {
   "cell_type": "code",
   "execution_count": 8,
   "metadata": {
    "collapsed": false
   },
   "outputs": [
    {
     "data": {
      "text/plain": [
       "Bioinformatics                            1112\n",
       "Evolutionary Biology                       983\n",
       "Genomics                                   829\n",
       "Neuroscience                               824\n",
       "Genetics                                   594\n",
       "Ecology                                    369\n",
       "Microbiology                               300\n",
       "Systems Biology                            279\n",
       "Biophysics                                 224\n",
       "Cell Biology                               177\n",
       "Cancer Biology                             151\n",
       "Plant Biology                              146\n",
       "Developmental Biology                      129\n",
       "Molecular Biology                          116\n",
       "Biochemistry                               108\n",
       "Animal Behavior and Cognition              100\n",
       "Synthetic Biology                           91\n",
       "Immunology                                  76\n",
       "Epidemiology                                71\n",
       "Bioengineering                              63\n",
       "Physiology                                  37\n",
       "Zoology                                     36\n",
       "Scientific Communication                    25\n",
       "Scientific Communication and Education      18\n",
       "Pharmacology                                18\n",
       "Pathology                                   18\n",
       "Paleontology                                 8\n",
       "Pharmacology and Toxicology                  6\n",
       "Clinical Trials                              1\n",
       "Name: Subject, dtype: int64"
      ]
     },
     "execution_count": 8,
     "metadata": {},
     "output_type": "execute_result"
    }
   ],
   "source": [
    "# Number of preprints by subject\n",
    "subject_counts = subject_df.Subject.value_counts()\n",
    "subject_counts"
   ]
  },
  {
   "cell_type": "code",
   "execution_count": 9,
   "metadata": {
    "collapsed": false
   },
   "outputs": [
    {
     "data": {
      "text/plain": [
       "16"
      ]
     },
     "execution_count": 9,
     "metadata": {},
     "output_type": "execute_result"
    }
   ],
   "source": [
    "# Subset subject_df for subjects with 100+ preprints\n",
    "popular_subjects = subject_counts[subject_counts >= 100].index.tolist()\n",
    "popular_subject_df = subject_df.query(\"Subject in @popular_subjects\")\n",
    "len(popular_subjects)"
   ]
  },
  {
   "cell_type": "code",
   "execution_count": 10,
   "metadata": {
    "collapsed": false
   },
   "outputs": [],
   "source": [
    "# Export for vega-lite\n",
    "path = os.path.join('figure', 'license-vs-subject', 'vega-lite-data.json')\n",
    "utilities.df_to_vega_lite(popular_subject_df, path)"
   ]
  }
 ],
 "metadata": {
  "kernelspec": {
   "display_name": "Python 3",
   "language": "python",
   "name": "python3"
  },
  "language_info": {
   "codemirror_mode": {
    "name": "ipython",
    "version": 3
   },
   "file_extension": ".py",
   "mimetype": "text/x-python",
   "name": "python",
   "nbconvert_exporter": "python",
   "pygments_lexer": "ipython3",
   "version": "3.5.2"
  }
 },
 "nbformat": 4,
 "nbformat_minor": 0
}
