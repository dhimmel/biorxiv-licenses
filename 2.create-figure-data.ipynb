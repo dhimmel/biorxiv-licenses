{
 "cells": [
  {
   "cell_type": "markdown",
   "metadata": {},
   "source": [
    "# Analyse license choices for bioRxiv preprints"
   ]
  },
  {
   "cell_type": "code",
   "execution_count": 1,
   "metadata": {
    "collapsed": true
   },
   "outputs": [],
   "source": [
    "import json\n",
    "import os\n",
    "\n",
    "import pandas\n",
    "import altair\n",
    "\n",
    "import utilities"
   ]
  },
  {
   "cell_type": "markdown",
   "metadata": {},
   "source": [
    "## Read data"
   ]
  },
  {
   "cell_type": "code",
   "execution_count": 2,
   "metadata": {
    "collapsed": false
   },
   "outputs": [],
   "source": [
    "# Ordered according to https://creativecommons.org/licenses/\n",
    "licenses = ['CC BY', 'CC BY-ND', 'CC BY-NC', 'CC BY-NC-ND', 'None']\n",
    "license_colors = ['#F68212', '#AC5B0C', '#934E0A', '#492705', '#000000']"
   ]
  },
  {
   "cell_type": "code",
   "execution_count": 3,
   "metadata": {
    "collapsed": false
   },
   "outputs": [
    {
     "data": {
      "text/html": [
       "<div>\n",
       "<table border=\"1\" class=\"dataframe\">\n",
       "  <thead>\n",
       "    <tr style=\"text-align: right;\">\n",
       "      <th></th>\n",
       "      <th>DOI</th>\n",
       "      <th>Date</th>\n",
       "      <th>License</th>\n",
       "    </tr>\n",
       "  </thead>\n",
       "  <tbody>\n",
       "    <tr>\n",
       "      <th>0</th>\n",
       "      <td>10.1101/000026</td>\n",
       "      <td>2014-09-08</td>\n",
       "      <td>CC BY</td>\n",
       "    </tr>\n",
       "    <tr>\n",
       "      <th>1</th>\n",
       "      <td>10.1101/000042</td>\n",
       "      <td>2013-12-01</td>\n",
       "      <td>CC BY</td>\n",
       "    </tr>\n",
       "  </tbody>\n",
       "</table>\n",
       "</div>"
      ],
      "text/plain": [
       "              DOI       Date License\n",
       "0  10.1101/000026 2014-09-08   CC BY\n",
       "1  10.1101/000042 2013-12-01   CC BY"
      ]
     },
     "execution_count": 3,
     "metadata": {},
     "output_type": "execute_result"
    }
   ],
   "source": [
    "path = os.path.join('data', 'preprints.tsv')\n",
    "preprint_df = pandas.read_table(path, parse_dates=['Date'])\n",
    "preprint_df.License = pandas.Categorical(preprint_df.License, licenses)\n",
    "preprint_df.head(2)"
   ]
  },
  {
   "cell_type": "markdown",
   "metadata": {},
   "source": [
    "## License distribution over time"
   ]
  },
  {
   "cell_type": "code",
   "execution_count": 4,
   "metadata": {
    "collapsed": false
   },
   "outputs": [],
   "source": [
    "path = os.path.join('figure', 'license-vs-time', 'vega-lite-data.json')\n",
    "utilities.df_to_vega_lite(preprint_df, path)"
   ]
  },
  {
   "cell_type": "markdown",
   "metadata": {},
   "source": [
    "## License distribution by subject"
   ]
  },
  {
   "cell_type": "code",
   "execution_count": 5,
   "metadata": {
    "collapsed": false
   },
   "outputs": [
    {
     "data": {
      "text/html": [
       "<div>\n",
       "<table border=\"1\" class=\"dataframe\">\n",
       "  <thead>\n",
       "    <tr style=\"text-align: right;\">\n",
       "      <th></th>\n",
       "      <th>DOI</th>\n",
       "      <th>Date</th>\n",
       "      <th>License</th>\n",
       "      <th>Subject</th>\n",
       "    </tr>\n",
       "  </thead>\n",
       "  <tbody>\n",
       "    <tr>\n",
       "      <th>6907</th>\n",
       "      <td>10.1101/090209</td>\n",
       "      <td>2016-11-28</td>\n",
       "      <td>CC BY-NC-ND</td>\n",
       "      <td>Neuroscience</td>\n",
       "    </tr>\n",
       "    <tr>\n",
       "      <th>6908</th>\n",
       "      <td>10.1101/090225</td>\n",
       "      <td>2016-11-28</td>\n",
       "      <td>CC BY-NC-ND</td>\n",
       "      <td>Ecology</td>\n",
       "    </tr>\n",
       "  </tbody>\n",
       "</table>\n",
       "</div>"
      ],
      "text/plain": [
       "                 DOI       Date      License       Subject\n",
       "6907  10.1101/090209 2016-11-28  CC BY-NC-ND  Neuroscience\n",
       "6908  10.1101/090225 2016-11-28  CC BY-NC-ND       Ecology"
      ]
     },
     "execution_count": 5,
     "metadata": {},
     "output_type": "execute_result"
    }
   ],
   "source": [
    "path = os.path.join('data', 'subjects.tsv')\n",
    "subject_df = preprint_df.merge(\n",
    "    pandas.read_table(path)\n",
    ")\n",
    "subject_df.tail(2)"
   ]
  },
  {
   "cell_type": "code",
   "execution_count": 6,
   "metadata": {
    "collapsed": false
   },
   "outputs": [
    {
     "data": {
      "text/plain": [
       "16"
      ]
     },
     "execution_count": 6,
     "metadata": {},
     "output_type": "execute_result"
    }
   ],
   "source": [
    "# Subset subject_df for subjects with 100+ preprints\n",
    "subject_counts = subject_df.Subject.value_counts()\n",
    "popular_subjects = subject_counts[subject_counts >= 100].index.tolist()\n",
    "popular_subject_df = subject_df.query(\"Subject in @popular_subjects\")\n",
    "len(popular_subjects)"
   ]
  },
  {
   "cell_type": "code",
   "execution_count": 7,
   "metadata": {
    "collapsed": false
   },
   "outputs": [],
   "source": [
    "# Export for vega-lite\n",
    "path = os.path.join('figure', 'license-vs-subject', 'vega-lite-data.json')\n",
    "utilities.df_to_vega_lite(popular_subject_df, path)"
   ]
  },
  {
   "cell_type": "markdown",
   "metadata": {},
   "source": [
    "## Licensing by author"
   ]
  },
  {
   "cell_type": "code",
   "execution_count": 8,
   "metadata": {
    "collapsed": false
   },
   "outputs": [
    {
     "data": {
      "text/html": [
       "<div>\n",
       "<table border=\"1\" class=\"dataframe\">\n",
       "  <thead>\n",
       "    <tr style=\"text-align: right;\">\n",
       "      <th></th>\n",
       "      <th>DOI</th>\n",
       "      <th>Date</th>\n",
       "      <th>License</th>\n",
       "      <th>Author</th>\n",
       "    </tr>\n",
       "  </thead>\n",
       "  <tbody>\n",
       "    <tr>\n",
       "      <th>0</th>\n",
       "      <td>10.1101/000026</td>\n",
       "      <td>2014-09-08</td>\n",
       "      <td>CC BY</td>\n",
       "      <td>Graham Coop</td>\n",
       "    </tr>\n",
       "    <tr>\n",
       "      <th>1</th>\n",
       "      <td>10.1101/000026</td>\n",
       "      <td>2014-09-08</td>\n",
       "      <td>CC BY</td>\n",
       "      <td>Jeremy J Berg</td>\n",
       "    </tr>\n",
       "    <tr>\n",
       "      <th>2</th>\n",
       "      <td>10.1101/000042</td>\n",
       "      <td>2013-12-01</td>\n",
       "      <td>CC BY</td>\n",
       "      <td>Arvind Narayanan</td>\n",
       "    </tr>\n",
       "    <tr>\n",
       "      <th>3</th>\n",
       "      <td>10.1101/000042</td>\n",
       "      <td>2013-12-01</td>\n",
       "      <td>CC BY</td>\n",
       "      <td>Yaniv Erlich</td>\n",
       "    </tr>\n",
       "    <tr>\n",
       "      <th>4</th>\n",
       "      <td>10.1101/000067</td>\n",
       "      <td>2013-11-07</td>\n",
       "      <td>None</td>\n",
       "      <td>Arthur H Shockley</td>\n",
       "    </tr>\n",
       "  </tbody>\n",
       "</table>\n",
       "</div>"
      ],
      "text/plain": [
       "              DOI       Date License             Author\n",
       "0  10.1101/000026 2014-09-08   CC BY        Graham Coop\n",
       "1  10.1101/000026 2014-09-08   CC BY      Jeremy J Berg\n",
       "2  10.1101/000042 2013-12-01   CC BY   Arvind Narayanan\n",
       "3  10.1101/000042 2013-12-01   CC BY       Yaniv Erlich\n",
       "4  10.1101/000067 2013-11-07    None  Arthur H Shockley"
      ]
     },
     "execution_count": 8,
     "metadata": {},
     "output_type": "execute_result"
    }
   ],
   "source": [
    "path = os.path.join('data', 'authors.tsv')\n",
    "author_df = preprint_df.merge(\n",
    "    pandas.read_table(path)\n",
    ")\n",
    "author_df.head()"
   ]
  },
  {
   "cell_type": "code",
   "execution_count": 9,
   "metadata": {
    "collapsed": true
   },
   "outputs": [],
   "source": [
    "license_scores = {\n",
    "    'CC BY': 5,\n",
    "    'CC BY-ND': 3,\n",
    "    'CC BY-NC': 3,\n",
    "    'CC BY-NC-ND': 2,\n",
    "    'None': 1,\n",
    "}\n",
    "author_df['score'] = author_df.License.map(license_scores)"
   ]
  },
  {
   "cell_type": "code",
   "execution_count": 10,
   "metadata": {
    "collapsed": false
   },
   "outputs": [],
   "source": [
    "def summarize(df):\n",
    "    row = pandas.Series()\n",
    "    row['Preprints'] = len(df)\n",
    "    row['Score'] = sum(df.score)\n",
    "    return row\n",
    "\n",
    "author_score_df = author_df.groupby('Author').apply(summarize).reset_index()"
   ]
  },
  {
   "cell_type": "code",
   "execution_count": 11,
   "metadata": {
    "collapsed": false
   },
   "outputs": [
    {
     "data": {
      "text/html": [
       "<div>\n",
       "<table border=\"1\" class=\"dataframe\">\n",
       "  <thead>\n",
       "    <tr style=\"text-align: right;\">\n",
       "      <th></th>\n",
       "      <th>Author</th>\n",
       "      <th>Preprints</th>\n",
       "      <th>Score</th>\n",
       "    </tr>\n",
       "  </thead>\n",
       "  <tbody>\n",
       "    <tr>\n",
       "      <th>20158</th>\n",
       "      <td>Michael Inouye</td>\n",
       "      <td>16</td>\n",
       "      <td>74</td>\n",
       "    </tr>\n",
       "    <tr>\n",
       "      <th>10491</th>\n",
       "      <td>Graham Coop</td>\n",
       "      <td>15</td>\n",
       "      <td>67</td>\n",
       "    </tr>\n",
       "    <tr>\n",
       "      <th>28637</th>\n",
       "      <td>Timothee Poisot</td>\n",
       "      <td>12</td>\n",
       "      <td>54</td>\n",
       "    </tr>\n",
       "    <tr>\n",
       "      <th>4554</th>\n",
       "      <td>Casey S Greene</td>\n",
       "      <td>11</td>\n",
       "      <td>48</td>\n",
       "    </tr>\n",
       "    <tr>\n",
       "      <th>24311</th>\n",
       "      <td>Richard Durbin</td>\n",
       "      <td>17</td>\n",
       "      <td>48</td>\n",
       "    </tr>\n",
       "  </tbody>\n",
       "</table>\n",
       "</div>"
      ],
      "text/plain": [
       "                Author  Preprints  Score\n",
       "20158   Michael Inouye         16     74\n",
       "10491      Graham Coop         15     67\n",
       "28637  Timothee Poisot         12     54\n",
       "4554    Casey S Greene         11     48\n",
       "24311   Richard Durbin         17     48"
      ]
     },
     "execution_count": 11,
     "metadata": {},
     "output_type": "execute_result"
    }
   ],
   "source": [
    "author_score_df.sort_values('Score', ascending=False).head()"
   ]
  },
  {
   "cell_type": "code",
   "execution_count": 12,
   "metadata": {
    "collapsed": true
   },
   "outputs": [],
   "source": [
    "path = os.path.join('data', 'author-scores.tsv')\n",
    "author_score_df.to_csv(path, sep='\\t', index=False)"
   ]
  },
  {
   "cell_type": "code",
   "execution_count": 13,
   "metadata": {
    "collapsed": false
   },
   "outputs": [],
   "source": [
    "path = os.path.join('data', 'author-scores.json')\n",
    "utilities.df_to_datatables(author_score_df, path)"
   ]
  }
 ],
 "metadata": {
  "kernelspec": {
   "display_name": "Python 3",
   "language": "python",
   "name": "python3"
  },
  "language_info": {
   "codemirror_mode": {
    "name": "ipython",
    "version": 3
   },
   "file_extension": ".py",
   "mimetype": "text/x-python",
   "name": "python",
   "nbconvert_exporter": "python",
   "pygments_lexer": "ipython3",
   "version": "3.5.2"
  }
 },
 "nbformat": 4,
 "nbformat_minor": 0
}
